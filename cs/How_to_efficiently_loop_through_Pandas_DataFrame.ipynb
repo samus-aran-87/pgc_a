{
  "nbformat": 4,
  "nbformat_minor": 0,
  "metadata": {
    "colab": {
      "name": "How to efficiently loop through Pandas DataFrame.ipynb",
      "provenance": []
    },
    "kernelspec": {
      "name": "python3",
      "display_name": "Python 3"
    }
  },
  "cells": [
    {
      "cell_type": "code",
      "metadata": {
        "id": "RWKQz4voyXno",
        "colab_type": "code",
        "colab": {}
      },
      "source": [
        "import timeit\n",
        "import pandas as pd\n",
        "import numpy as np"
      ],
      "execution_count": 0,
      "outputs": []
    },
    {
      "cell_type": "code",
      "metadata": {
        "id": "nVGUPaDWyZzY",
        "colab_type": "code",
        "outputId": "d3ecc354-94ce-4fc2-f1bc-2d6ebc399558",
        "colab": {
          "base_uri": "https://localhost:8080/",
          "height": 204
        }
      },
      "source": [
        "df = pd.DataFrame(np.random.randint(0, 10, size=(100000, 4)), columns=list('ABCD'))\n",
        "df.head()"
      ],
      "execution_count": 0,
      "outputs": [
        {
          "output_type": "execute_result",
          "data": {
            "text/html": [
              "<div>\n",
              "<style scoped>\n",
              "    .dataframe tbody tr th:only-of-type {\n",
              "        vertical-align: middle;\n",
              "    }\n",
              "\n",
              "    .dataframe tbody tr th {\n",
              "        vertical-align: top;\n",
              "    }\n",
              "\n",
              "    .dataframe thead th {\n",
              "        text-align: right;\n",
              "    }\n",
              "</style>\n",
              "<table border=\"1\" class=\"dataframe\">\n",
              "  <thead>\n",
              "    <tr style=\"text-align: right;\">\n",
              "      <th></th>\n",
              "      <th>A</th>\n",
              "      <th>B</th>\n",
              "      <th>C</th>\n",
              "      <th>D</th>\n",
              "    </tr>\n",
              "  </thead>\n",
              "  <tbody>\n",
              "    <tr>\n",
              "      <th>0</th>\n",
              "      <td>7</td>\n",
              "      <td>7</td>\n",
              "      <td>7</td>\n",
              "      <td>3</td>\n",
              "    </tr>\n",
              "    <tr>\n",
              "      <th>1</th>\n",
              "      <td>9</td>\n",
              "      <td>6</td>\n",
              "      <td>4</td>\n",
              "      <td>0</td>\n",
              "    </tr>\n",
              "    <tr>\n",
              "      <th>2</th>\n",
              "      <td>7</td>\n",
              "      <td>9</td>\n",
              "      <td>6</td>\n",
              "      <td>0</td>\n",
              "    </tr>\n",
              "    <tr>\n",
              "      <th>3</th>\n",
              "      <td>2</td>\n",
              "      <td>9</td>\n",
              "      <td>7</td>\n",
              "      <td>4</td>\n",
              "    </tr>\n",
              "    <tr>\n",
              "      <th>4</th>\n",
              "      <td>9</td>\n",
              "      <td>9</td>\n",
              "      <td>4</td>\n",
              "      <td>0</td>\n",
              "    </tr>\n",
              "  </tbody>\n",
              "</table>\n",
              "</div>"
            ],
            "text/plain": [
              "   A  B  C  D\n",
              "0  7  7  7  3\n",
              "1  9  6  4  0\n",
              "2  7  9  6  0\n",
              "3  2  9  7  4\n",
              "4  9  9  4  0"
            ]
          },
          "metadata": {
            "tags": []
          },
          "execution_count": 2
        }
      ]
    },
    {
      "cell_type": "markdown",
      "metadata": {
        "id": "OpKNToWqykmh",
        "colab_type": "text"
      },
      "source": [
        "### Standard python for loop with iloc\n",
        "- 1 loop, best of 3: 2.32 s per loop"
      ]
    },
    {
      "cell_type": "code",
      "metadata": {
        "id": "Q4loGTrCyZ14",
        "colab_type": "code",
        "colab": {}
      },
      "source": [
        "def loop_with_for(df):\n",
        "    temp = 0\n",
        "    for index in range(len(df)):\n",
        "        temp += df['A'].iloc[index] + df['B'].iloc[index]\n",
        "    return temp"
      ],
      "execution_count": 0,
      "outputs": []
    },
    {
      "cell_type": "code",
      "metadata": {
        "id": "ZEju5NleyZ4Q",
        "colab_type": "code",
        "outputId": "f2042121-51be-4933-97d2-5f81094eb83a",
        "colab": {
          "base_uri": "https://localhost:8080/",
          "height": 34
        }
      },
      "source": [
        "%timeit loop_with_for(df)"
      ],
      "execution_count": 0,
      "outputs": [
        {
          "output_type": "stream",
          "text": [
            "1 loop, best of 3: 2.32 s per loop\n"
          ],
          "name": "stdout"
        }
      ]
    },
    {
      "cell_type": "markdown",
      "metadata": {
        "id": "-i2ULViYyuhS",
        "colab_type": "text"
      },
      "source": [
        "### Using pandas iterrows function\n",
        "- 1 loop, best of 3: 10.3 s per loop"
      ]
    },
    {
      "cell_type": "code",
      "metadata": {
        "id": "XoiOb2iLyZ-s",
        "colab_type": "code",
        "colab": {}
      },
      "source": [
        "def loop_with_iterrows(df):\n",
        "    temp = 0\n",
        "    for _, row in df.iterrows():\n",
        "         temp += row.A + row.B\n",
        "    return temp"
      ],
      "execution_count": 0,
      "outputs": []
    },
    {
      "cell_type": "code",
      "metadata": {
        "id": "XjsG3aXHyaC7",
        "colab_type": "code",
        "outputId": "ff7462d0-a157-41d3-f9c1-9cf4808a7b17",
        "colab": {
          "base_uri": "https://localhost:8080/",
          "height": 34
        }
      },
      "source": [
        "%timeit loop_with_iterrows(df)"
      ],
      "execution_count": 0,
      "outputs": [
        {
          "output_type": "stream",
          "text": [
            "1 loop, best of 3: 10.3 s per loop\n"
          ],
          "name": "stdout"
        }
      ]
    },
    {
      "cell_type": "markdown",
      "metadata": {
        "id": "phCDguZEyzWf",
        "colab_type": "text"
      },
      "source": [
        "### Using pandas itertuples function\n",
        "- 10 loops, best of 3: 85.4 ms per loop"
      ]
    },
    {
      "cell_type": "code",
      "metadata": {
        "id": "z58Xy276yaHP",
        "colab_type": "code",
        "colab": {}
      },
      "source": [
        "def loop_with_itertuples(df):\n",
        "    temp = 0\n",
        "    for row_tuple in df.itertuples():\n",
        "        temp += row_tuple.A + row_tuple.B\n",
        "    return temp"
      ],
      "execution_count": 0,
      "outputs": []
    },
    {
      "cell_type": "code",
      "metadata": {
        "id": "P8Ia-SPDyaMG",
        "colab_type": "code",
        "outputId": "4f93eaa6-e0f8-4feb-fa54-e0c94e03d2d5",
        "colab": {
          "base_uri": "https://localhost:8080/",
          "height": 34
        }
      },
      "source": [
        "%timeit loop_with_itertuples(df)"
      ],
      "execution_count": 0,
      "outputs": [
        {
          "output_type": "stream",
          "text": [
            "10 loops, best of 3: 85.4 ms per loop\n"
          ],
          "name": "stdout"
        }
      ]
    },
    {
      "cell_type": "markdown",
      "metadata": {
        "id": "HYN7Dvb_zLcB",
        "colab_type": "text"
      },
      "source": [
        "### Using python zip\n",
        "- 10 loops, best of 3: 21 ms per loop"
      ]
    },
    {
      "cell_type": "code",
      "metadata": {
        "id": "B1NdzGWHyaOQ",
        "colab_type": "code",
        "colab": {}
      },
      "source": [
        "def loop_with_zip(df):\n",
        "    temp = 0\n",
        "    for a, b in zip(df['A'], df['B']):\n",
        "        temp += a + b\n",
        "    return temp"
      ],
      "execution_count": 0,
      "outputs": []
    },
    {
      "cell_type": "code",
      "metadata": {
        "id": "x4v8h5r8yaYp",
        "colab_type": "code",
        "outputId": "33c66b74-a764-4848-81ea-28c1251336fc",
        "colab": {
          "base_uri": "https://localhost:8080/",
          "height": 34
        }
      },
      "source": [
        "%timeit loop_with_zip(df)"
      ],
      "execution_count": 0,
      "outputs": [
        {
          "output_type": "stream",
          "text": [
            "10 loops, best of 3: 21 ms per loop\n"
          ],
          "name": "stdout"
        }
      ]
    },
    {
      "cell_type": "code",
      "metadata": {
        "id": "cGItx3pEyac5",
        "colab_type": "code",
        "outputId": "47d362fb-d20c-42bb-9faf-e325006f4a4d",
        "colab": {
          "base_uri": "https://localhost:8080/",
          "height": 34
        }
      },
      "source": [
        "%prun -l 4 loop_with_zip(df)"
      ],
      "execution_count": 0,
      "outputs": [
        {
          "output_type": "stream",
          "text": [
            " "
          ],
          "name": "stdout"
        }
      ]
    },
    {
      "cell_type": "markdown",
      "metadata": {
        "id": "NhEvl9rUzmA_",
        "colab_type": "text"
      },
      "source": [
        "### Using pandas apply function\n",
        "- 1 loop, best of 3: 1.86 s per loop"
      ]
    },
    {
      "cell_type": "code",
      "metadata": {
        "id": "cfjFldvgyagJ",
        "colab_type": "code",
        "colab": {}
      },
      "source": [
        "def using_apply(df):\n",
        "    return df.apply(lambda x: x['A'] + x['B'], axis=1).sum()"
      ],
      "execution_count": 0,
      "outputs": []
    },
    {
      "cell_type": "code",
      "metadata": {
        "id": "edpFaU_Myalj",
        "colab_type": "code",
        "outputId": "7183fff7-1b5c-4131-850d-fab898d2e6a1",
        "colab": {
          "base_uri": "https://localhost:8080/",
          "height": 34
        }
      },
      "source": [
        "%timeit using_apply(df)"
      ],
      "execution_count": 0,
      "outputs": [
        {
          "output_type": "stream",
          "text": [
            "1 loop, best of 3: 1.86 s per loop\n"
          ],
          "name": "stdout"
        }
      ]
    },
    {
      "cell_type": "markdown",
      "metadata": {
        "id": "Wsao9RINzsxX",
        "colab_type": "text"
      },
      "source": [
        "### Using pandas builtin add function\n",
        "- 1000 loops, best of 3: 863 µs per loop"
      ]
    },
    {
      "cell_type": "code",
      "metadata": {
        "id": "WKPdgF2_yaoV",
        "colab_type": "code",
        "colab": {}
      },
      "source": [
        "def using_pandas_builtin(df):\n",
        "    return (df['A'] + df['B']).sum()"
      ],
      "execution_count": 0,
      "outputs": []
    },
    {
      "cell_type": "code",
      "metadata": {
        "id": "HIZ81lnZyarp",
        "colab_type": "code",
        "outputId": "53a06ced-2bae-4d29-c030-feca2e638ce0",
        "colab": {
          "base_uri": "https://localhost:8080/",
          "height": 51
        }
      },
      "source": [
        "%timeit using_pandas_builtin(df)"
      ],
      "execution_count": 0,
      "outputs": [
        {
          "output_type": "stream",
          "text": [
            "The slowest run took 32.39 times longer than the fastest. This could mean that an intermediate result is being cached.\n",
            "1000 loops, best of 3: 863 µs per loop\n"
          ],
          "name": "stdout"
        }
      ]
    },
    {
      "cell_type": "markdown",
      "metadata": {
        "id": "efYcfO3R0MzG",
        "colab_type": "text"
      },
      "source": [
        "### Using numpy builtin function\n",
        "- 1000 loops, best of 3: 333 µs per loop"
      ]
    },
    {
      "cell_type": "code",
      "metadata": {
        "id": "7XOUgxUNyaur",
        "colab_type": "code",
        "colab": {}
      },
      "source": [
        "def using_numpy_builtin(df):\n",
        "    return (df['A'].values + df['B'].values).sum()"
      ],
      "execution_count": 0,
      "outputs": []
    },
    {
      "cell_type": "code",
      "metadata": {
        "id": "yRDZ6O_Gyaz7",
        "colab_type": "code",
        "outputId": "d21a05d6-6961-4e71-9494-ee0e00e8a80d",
        "colab": {
          "base_uri": "https://localhost:8080/",
          "height": 51
        }
      },
      "source": [
        "%timeit using_numpy_builtin(df)"
      ],
      "execution_count": 0,
      "outputs": [
        {
          "output_type": "stream",
          "text": [
            "The slowest run took 5.43 times longer than the fastest. This could mean that an intermediate result is being cached.\n",
            "1000 loops, best of 3: 333 µs per loop\n"
          ],
          "name": "stdout"
        }
      ]
    },
    {
      "cell_type": "markdown",
      "metadata": {
        "id": "YL3_2y4k0YGY",
        "colab_type": "text"
      },
      "source": [
        "### How to use apply?\n",
        "- using_apply\n",
        "  - 1 loop, best of 3: 1.99 s per loop\n",
        "\n",
        "- using_apply_unpack\n",
        "  - 1 loop, best of 3: 1.67 s per loop"
      ]
    },
    {
      "cell_type": "code",
      "metadata": {
        "id": "_9ZinXKqya3N",
        "colab_type": "code",
        "colab": {}
      },
      "source": [
        "def using_apply(df):\n",
        "    return df.apply(lambda x: x['A'] + x['B'] + x['C'] + x['D'], axis=1).sum()"
      ],
      "execution_count": 0,
      "outputs": []
    },
    {
      "cell_type": "code",
      "metadata": {
        "id": "0bfyPREC0nxG",
        "colab_type": "code",
        "outputId": "87e281ac-0f46-4ada-bce3-edb14bcf5eb1",
        "colab": {
          "base_uri": "https://localhost:8080/",
          "height": 34
        }
      },
      "source": [
        "%timeit using_apply(df)"
      ],
      "execution_count": 0,
      "outputs": [
        {
          "output_type": "stream",
          "text": [
            "1 loop, best of 3: 1.99 s per loop\n"
          ],
          "name": "stdout"
        }
      ]
    },
    {
      "cell_type": "code",
      "metadata": {
        "id": "sI8e-JK6ya6a",
        "colab_type": "code",
        "colab": {}
      },
      "source": [
        "def using_apply_unpack(df):\n",
        "    return df[['A', 'B', 'C', 'D']].apply(lambda x: sum([*x]), axis=1).sum()"
      ],
      "execution_count": 0,
      "outputs": []
    },
    {
      "cell_type": "code",
      "metadata": {
        "id": "vQ1YJfT_0oHf",
        "colab_type": "code",
        "outputId": "4a535e14-618b-487c-9c95-67665001ccba",
        "colab": {
          "base_uri": "https://localhost:8080/",
          "height": 34
        }
      },
      "source": [
        "%timeit using_apply_unpack(df)"
      ],
      "execution_count": 0,
      "outputs": [
        {
          "output_type": "stream",
          "text": [
            "1 loop, best of 3: 1.67 s per loop\n"
          ],
          "name": "stdout"
        }
      ]
    },
    {
      "cell_type": "code",
      "metadata": {
        "id": "aZXhN6xpyZ7T",
        "colab_type": "code",
        "colab": {}
      },
      "source": [
        "pass"
      ],
      "execution_count": 0,
      "outputs": []
    }
  ]
}