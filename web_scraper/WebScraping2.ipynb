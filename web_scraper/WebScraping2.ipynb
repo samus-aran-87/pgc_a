{
  "nbformat": 4,
  "nbformat_minor": 0,
  "metadata": {
    "colab": {
      "name": "WebScraping2.ipynb",
      "provenance": [],
      "collapsed_sections": [],
      "toc_visible": true
    },
    "kernelspec": {
      "name": "python3",
      "display_name": "Python 3"
    }
  },
  "cells": [
    {
      "cell_type": "markdown",
      "metadata": {
        "id": "TrF0Rug5Kc3M",
        "colab_type": "text"
      },
      "source": [
        "# Python Beautiful Soup Web Scraping (find/find_all, css select, scrape table)"
      ]
    },
    {
      "cell_type": "markdown",
      "metadata": {
        "id": "1QGo6OU7KlOc",
        "colab_type": "text"
      },
      "source": [
        "**Resources**\\\n",
        "Simple webpage: https://keithgalli.github.io/web-scraping/example.html \\\n",
        "Example webpage: https://keithgalli.github.io/web-scraping/webpage.html \\\n",
        "Beautiful Soup Documentation: https://www.crummy.com/software/BeautifulSoup/bs4/doc/ \\\n",
        "CSS Selector Reference: https://www.w3schools.com/cssref/css_selectors.asp"
      ]
    },
    {
      "cell_type": "markdown",
      "metadata": {
        "id": "YXRbXZdpK208",
        "colab_type": "text"
      },
      "source": [
        "## Load in the necessary libraries"
      ]
    },
    {
      "cell_type": "code",
      "metadata": {
        "id": "77PW23F5KBkd",
        "colab_type": "code",
        "colab": {}
      },
      "source": [
        "import requests  # pip install requests\n",
        "from bs4 import BeautifulSoup as bs  # pip install beautifulsoup4"
      ],
      "execution_count": 20,
      "outputs": []
    },
    {
      "cell_type": "markdown",
      "metadata": {
        "id": "SKLoJYAUK7kN",
        "colab_type": "text"
      },
      "source": [
        "## Load our first page"
      ]
    },
    {
      "cell_type": "code",
      "metadata": {
        "id": "XTGtHWesK5OE",
        "colab_type": "code",
        "colab": {}
      },
      "source": [
        "# Load the webpage content\n",
        "url = 'https://keithgalli.github.io/web-scraping/example.html'\n",
        "r = requests.get(url)"
      ],
      "execution_count": 21,
      "outputs": []
    },
    {
      "cell_type": "code",
      "metadata": {
        "id": "csiiuUIgLA15",
        "colab_type": "code",
        "colab": {}
      },
      "source": [
        "# Convert to a beautifulsoup object\n",
        "soup = bs(r.content, 'html.parser')"
      ],
      "execution_count": 22,
      "outputs": []
    },
    {
      "cell_type": "code",
      "metadata": {
        "id": "jAaG1aqULED9",
        "colab_type": "code",
        "colab": {
          "base_uri": "https://localhost:8080/",
          "height": 656
        },
        "outputId": "4fa39e5f-a459-43ea-cd4c-54c17328c497"
      },
      "source": [
        "# Print out our html\n",
        "# print(soup)\n",
        "print(soup.prettify())"
      ],
      "execution_count": 23,
      "outputs": [
        {
          "output_type": "stream",
          "text": [
            "<html>\n",
            " <head>\n",
            "  <title>\n",
            "   HTML Example\n",
            "  </title>\n",
            " </head>\n",
            " <body>\n",
            "  <div align=\"middle\">\n",
            "   <h1>\n",
            "    HTML Webpage\n",
            "   </h1>\n",
            "   <p>\n",
            "    Link to more interesting example:\n",
            "    <a href=\"https://keithgalli.github.io/web-scraping/webpage.html\">\n",
            "     keithgalli.github.io/web-scraping/webpage.html\n",
            "    </a>\n",
            "   </p>\n",
            "  </div>\n",
            "  <h2>\n",
            "   A Header\n",
            "  </h2>\n",
            "  <p>\n",
            "   <i>\n",
            "    Some italicized text\n",
            "   </i>\n",
            "  </p>\n",
            "  <h2>\n",
            "   Another header\n",
            "  </h2>\n",
            "  <p id=\"paragraph-id\">\n",
            "   <b>\n",
            "    Some bold text\n",
            "   </b>\n",
            "  </p>\n",
            " </body>\n",
            "</html>\n",
            "\n"
          ],
          "name": "stdout"
        }
      ]
    },
    {
      "cell_type": "markdown",
      "metadata": {
        "id": "zNBFmJlZLMSJ",
        "colab_type": "text"
      },
      "source": [
        "## Start using beautifulsoup to scrape"
      ]
    },
    {
      "cell_type": "code",
      "metadata": {
        "id": "gI4tbVKtLIs-",
        "colab_type": "code",
        "colab": {
          "base_uri": "https://localhost:8080/",
          "height": 35
        },
        "outputId": "5396c3ef-9faf-45a4-b418-6e8e8331aa38"
      },
      "source": [
        "# find and find_all\n",
        "first_header = soup.find('h2')\n",
        "print(first_header)"
      ],
      "execution_count": 24,
      "outputs": [
        {
          "output_type": "stream",
          "text": [
            "<h2>A Header</h2>\n"
          ],
          "name": "stdout"
        }
      ]
    },
    {
      "cell_type": "code",
      "metadata": {
        "id": "YIBQot_ULQKS",
        "colab_type": "code",
        "colab": {
          "base_uri": "https://localhost:8080/",
          "height": 35
        },
        "outputId": "5dd53b4e-c587-472a-d8f3-0f4cab23ba22"
      },
      "source": [
        "headers = soup.find_all('h2')\n",
        "print(headers)"
      ],
      "execution_count": 25,
      "outputs": [
        {
          "output_type": "stream",
          "text": [
            "[<h2>A Header</h2>, <h2>Another header</h2>]\n"
          ],
          "name": "stdout"
        }
      ]
    },
    {
      "cell_type": "code",
      "metadata": {
        "id": "KC3esj9hLSpL",
        "colab_type": "code",
        "colab": {
          "base_uri": "https://localhost:8080/",
          "height": 35
        },
        "outputId": "54829439-59c7-4222-9e22-7c9ba0fc8f36"
      },
      "source": [
        "# pass in a list of elements to look for\n",
        "headers = soup.find_all(['h1', 'h2'])\n",
        "print(headers)"
      ],
      "execution_count": 26,
      "outputs": [
        {
          "output_type": "stream",
          "text": [
            "[<h1>HTML Webpage</h1>, <h2>A Header</h2>, <h2>Another header</h2>]\n"
          ],
          "name": "stdout"
        }
      ]
    },
    {
      "cell_type": "code",
      "metadata": {
        "id": "6_YcLQqfLXgQ",
        "colab_type": "code",
        "colab": {
          "base_uri": "https://localhost:8080/",
          "height": 55
        },
        "outputId": "13b291b8-e397-4d21-cc1c-3438360a1202"
      },
      "source": [
        "# you can pass in attributes to the find/find_all function\n",
        "paragraph = soup.find_all('p')\n",
        "print(paragraph)"
      ],
      "execution_count": 27,
      "outputs": [
        {
          "output_type": "stream",
          "text": [
            "[<p>Link to more interesting example: <a href=\"https://keithgalli.github.io/web-scraping/webpage.html\">keithgalli.github.io/web-scraping/webpage.html</a></p>, <p><i>Some italicized text</i></p>, <p id=\"paragraph-id\"><b>Some bold text</b></p>]\n"
          ],
          "name": "stdout"
        }
      ]
    },
    {
      "cell_type": "code",
      "metadata": {
        "id": "1e43gAi-LcHk",
        "colab_type": "code",
        "colab": {
          "base_uri": "https://localhost:8080/",
          "height": 35
        },
        "outputId": "c8b55aa8-7c95-4c3d-86be-b67ee3c1bd2a"
      },
      "source": [
        "paragraph = soup.find_all('p', attrs={'id': \"paragraph-id\"})\n",
        "print(paragraph)"
      ],
      "execution_count": 28,
      "outputs": [
        {
          "output_type": "stream",
          "text": [
            "[<p id=\"paragraph-id\"><b>Some bold text</b></p>]\n"
          ],
          "name": "stdout"
        }
      ]
    },
    {
      "cell_type": "code",
      "metadata": {
        "id": "QK3L6OPnLeL4",
        "colab_type": "code",
        "colab": {
          "base_uri": "https://localhost:8080/",
          "height": 35
        },
        "outputId": "a10f7ff5-01fa-4717-c28c-5241f6e9280d"
      },
      "source": [
        "# you can nest find/find_all calls\n",
        "body = soup.find('body')\n",
        "div = body.find('div')\n",
        "h = div.find('h1')\n",
        "print(h)"
      ],
      "execution_count": 29,
      "outputs": [
        {
          "output_type": "stream",
          "text": [
            "<h1>HTML Webpage</h1>\n"
          ],
          "name": "stdout"
        }
      ]
    },
    {
      "cell_type": "code",
      "metadata": {
        "id": "HBM5dKhmLhqR",
        "colab_type": "code",
        "colab": {
          "base_uri": "https://localhost:8080/",
          "height": 656
        },
        "outputId": "2f557680-5bf0-4d6d-d512-265ff3658b5b"
      },
      "source": [
        "# we can search specific strings in our find/find_all calls\n",
        "print(soup.prettify())"
      ],
      "execution_count": 30,
      "outputs": [
        {
          "output_type": "stream",
          "text": [
            "<html>\n",
            " <head>\n",
            "  <title>\n",
            "   HTML Example\n",
            "  </title>\n",
            " </head>\n",
            " <body>\n",
            "  <div align=\"middle\">\n",
            "   <h1>\n",
            "    HTML Webpage\n",
            "   </h1>\n",
            "   <p>\n",
            "    Link to more interesting example:\n",
            "    <a href=\"https://keithgalli.github.io/web-scraping/webpage.html\">\n",
            "     keithgalli.github.io/web-scraping/webpage.html\n",
            "    </a>\n",
            "   </p>\n",
            "  </div>\n",
            "  <h2>\n",
            "   A Header\n",
            "  </h2>\n",
            "  <p>\n",
            "   <i>\n",
            "    Some italicized text\n",
            "   </i>\n",
            "  </p>\n",
            "  <h2>\n",
            "   Another header\n",
            "  </h2>\n",
            "  <p id=\"paragraph-id\">\n",
            "   <b>\n",
            "    Some bold text\n",
            "   </b>\n",
            "  </p>\n",
            " </body>\n",
            "</html>\n",
            "\n"
          ],
          "name": "stdout"
        }
      ]
    },
    {
      "cell_type": "code",
      "metadata": {
        "id": "5DsOTCfpLnqo",
        "colab_type": "code",
        "colab": {
          "base_uri": "https://localhost:8080/",
          "height": 35
        },
        "outputId": "9fc1e016-86c4-499a-88e0-0158937b45cb"
      },
      "source": [
        "import re\n",
        "paragraphs = soup.find_all('p', string=re.compile('Some'))\n",
        "print(paragraphs)"
      ],
      "execution_count": 31,
      "outputs": [
        {
          "output_type": "stream",
          "text": [
            "[<p><i>Some italicized text</i></p>, <p id=\"paragraph-id\"><b>Some bold text</b></p>]\n"
          ],
          "name": "stdout"
        }
      ]
    },
    {
      "cell_type": "code",
      "metadata": {
        "id": "rgA8uxRCLqmB",
        "colab_type": "code",
        "colab": {
          "base_uri": "https://localhost:8080/",
          "height": 35
        },
        "outputId": "5222931a-29bb-4c36-c47d-fe73efffe163"
      },
      "source": [
        "header = soup.find_all('h2', string=re.compile('(H|h)eader'))\n",
        "print(header)"
      ],
      "execution_count": 32,
      "outputs": [
        {
          "output_type": "stream",
          "text": [
            "[<h2>A Header</h2>, <h2>Another header</h2>]\n"
          ],
          "name": "stdout"
        }
      ]
    },
    {
      "cell_type": "markdown",
      "metadata": {
        "id": "BGqWXrVYLw83",
        "colab_type": "text"
      },
      "source": [
        "## Select method (CSS path selections)"
      ]
    },
    {
      "cell_type": "code",
      "metadata": {
        "id": "jPIRi--zLtPp",
        "colab_type": "code",
        "colab": {
          "base_uri": "https://localhost:8080/",
          "height": 55
        },
        "outputId": "01fc68eb-7298-4822-a587-da566e2a940f"
      },
      "source": [
        "content = soup.select('p')\n",
        "print(content)"
      ],
      "execution_count": 33,
      "outputs": [
        {
          "output_type": "stream",
          "text": [
            "[<p>Link to more interesting example: <a href=\"https://keithgalli.github.io/web-scraping/webpage.html\">keithgalli.github.io/web-scraping/webpage.html</a></p>, <p><i>Some italicized text</i></p>, <p id=\"paragraph-id\"><b>Some bold text</b></p>]\n"
          ],
          "name": "stdout"
        }
      ]
    },
    {
      "cell_type": "code",
      "metadata": {
        "id": "Ohs7II0WLy3g",
        "colab_type": "code",
        "colab": {
          "base_uri": "https://localhost:8080/",
          "height": 55
        },
        "outputId": "d0ab046d-542d-4606-9fdb-dab20881252d"
      },
      "source": [
        "content = soup.select('div p')\n",
        "print(content)"
      ],
      "execution_count": 34,
      "outputs": [
        {
          "output_type": "stream",
          "text": [
            "[<p>Link to more interesting example: <a href=\"https://keithgalli.github.io/web-scraping/webpage.html\">keithgalli.github.io/web-scraping/webpage.html</a></p>]\n"
          ],
          "name": "stdout"
        }
      ]
    },
    {
      "cell_type": "code",
      "metadata": {
        "id": "ei2Tn6zrL0E1",
        "colab_type": "code",
        "colab": {
          "base_uri": "https://localhost:8080/",
          "height": 35
        },
        "outputId": "bed6f2d7-7800-4708-c88c-811cd3e1bb9d"
      },
      "source": [
        "paragraphs = soup.select('h2 ~ p')\n",
        "print(paragraphs)"
      ],
      "execution_count": 35,
      "outputs": [
        {
          "output_type": "stream",
          "text": [
            "[<p><i>Some italicized text</i></p>, <p id=\"paragraph-id\"><b>Some bold text</b></p>]\n"
          ],
          "name": "stdout"
        }
      ]
    },
    {
      "cell_type": "code",
      "metadata": {
        "id": "rhHlxdcBMLy3",
        "colab_type": "code",
        "colab": {
          "base_uri": "https://localhost:8080/",
          "height": 35
        },
        "outputId": "8b9477bb-7309-43a0-f1ec-3c19bed7ff3f"
      },
      "source": [
        "bolt_text = soup.select('p#paragraph-id b')\n",
        "bolt_text"
      ],
      "execution_count": 36,
      "outputs": [
        {
          "output_type": "execute_result",
          "data": {
            "text/plain": [
              "[<b>Some bold text</b>]"
            ]
          },
          "metadata": {
            "tags": []
          },
          "execution_count": 36
        }
      ]
    },
    {
      "cell_type": "code",
      "metadata": {
        "id": "opBFIT6EMq1I",
        "colab_type": "code",
        "colab": {
          "base_uri": "https://localhost:8080/",
          "height": 69
        },
        "outputId": "678672c1-10c0-4e0d-862a-e511325279be"
      },
      "source": [
        "paragraphs = soup.select('body > p')\n",
        "print(paragraphs)\n",
        "\n",
        "for p in paragraphs:\n",
        "  print(p.select('i'))"
      ],
      "execution_count": 37,
      "outputs": [
        {
          "output_type": "stream",
          "text": [
            "[<p><i>Some italicized text</i></p>, <p id=\"paragraph-id\"><b>Some bold text</b></p>]\n",
            "[<i>Some italicized text</i>]\n",
            "[]\n"
          ],
          "name": "stdout"
        }
      ]
    },
    {
      "cell_type": "code",
      "metadata": {
        "id": "fQ7cwoNBNflp",
        "colab_type": "code",
        "colab": {
          "base_uri": "https://localhost:8080/",
          "height": 106
        },
        "outputId": "3154e4a0-11be-4601-8ae8-ab60c081f649"
      },
      "source": [
        "# grab by element with specific property\n",
        "soup.select('[align=middle]')"
      ],
      "execution_count": 38,
      "outputs": [
        {
          "output_type": "execute_result",
          "data": {
            "text/plain": [
              "[<div align=\"middle\">\n",
              " <h1>HTML Webpage</h1>\n",
              " <p>Link to more interesting example: <a href=\"https://keithgalli.github.io/web-scraping/webpage.html\">keithgalli.github.io/web-scraping/webpage.html</a></p>\n",
              " </div>]"
            ]
          },
          "metadata": {
            "tags": []
          },
          "execution_count": 38
        }
      ]
    },
    {
      "cell_type": "markdown",
      "metadata": {
        "id": "rs4fj4K9OiZI",
        "colab_type": "text"
      },
      "source": [
        "## Grabbing the string/text from an HTML element"
      ]
    },
    {
      "cell_type": "code",
      "metadata": {
        "id": "zfpKfLlDOYdM",
        "colab_type": "code",
        "colab": {
          "base_uri": "https://localhost:8080/",
          "height": 345
        },
        "outputId": "8fcae51e-14ee-46e1-f238-4b2611d37ba1"
      },
      "source": [
        "# use .string\n",
        "header = soup.find('h2')\n",
        "print(header.string)\n",
        "print(header.text)\n",
        "print(header.get_text())\n",
        "\n",
        "# if multiple child elements use get_text()\n",
        "div = soup.find('div')\n",
        "print(div.prettify())\n",
        "print(div.get_text())"
      ],
      "execution_count": 49,
      "outputs": [
        {
          "output_type": "stream",
          "text": [
            "A Header\n",
            "A Header\n",
            "A Header\n",
            "<div align=\"middle\">\n",
            " <h1>\n",
            "  HTML Webpage\n",
            " </h1>\n",
            " <p>\n",
            "  Link to more interesting example:\n",
            "  <a href=\"https://keithgalli.github.io/web-scraping/webpage.html\">\n",
            "   keithgalli.github.io/web-scraping/webpage.html\n",
            "  </a>\n",
            " </p>\n",
            "</div>\n",
            "\n",
            "\n",
            "HTML Webpage\n",
            "Link to more interesting example: keithgalli.github.io/web-scraping/webpage.html\n",
            "\n"
          ],
          "name": "stdout"
        }
      ]
    },
    {
      "cell_type": "code",
      "metadata": {
        "id": "K3ET3g0psoFt",
        "colab_type": "code",
        "colab": {
          "base_uri": "https://localhost:8080/",
          "height": 35
        },
        "outputId": "4969114d-5646-4962-bd55-49c3d9aaeab8"
      },
      "source": [
        "# Get a specific get a property from an element\n",
        "\n",
        "link = soup.find('a')\n",
        "link['href']\n",
        "\n",
        "paragraph = soup.select('p#paragraph-id')\n",
        "paragraph[0]['id']"
      ],
      "execution_count": 54,
      "outputs": [
        {
          "output_type": "execute_result",
          "data": {
            "application/vnd.google.colaboratory.intrinsic": {
              "type": "string"
            },
            "text/plain": [
              "'paragraph-id'"
            ]
          },
          "metadata": {
            "tags": []
          },
          "execution_count": 54
        }
      ]
    },
    {
      "cell_type": "markdown",
      "metadata": {
        "id": "E4SbWDzfu2lz",
        "colab_type": "text"
      },
      "source": [
        "## Code navigation (parents, children, siblings)"
      ]
    },
    {
      "cell_type": "code",
      "metadata": {
        "id": "gY7Wex9ftkdI",
        "colab_type": "code",
        "colab": {
          "base_uri": "https://localhost:8080/",
          "height": 35
        },
        "outputId": "a31ea789-ff2f-4f4f-8cd5-ed2d3a5eda5d"
      },
      "source": [
        "# path sintax\n",
        "soup.body.div.h1.string"
      ],
      "execution_count": 57,
      "outputs": [
        {
          "output_type": "execute_result",
          "data": {
            "application/vnd.google.colaboratory.intrinsic": {
              "type": "string"
            },
            "text/plain": [
              "'HTML Webpage'"
            ]
          },
          "metadata": {
            "tags": []
          },
          "execution_count": 57
        }
      ]
    },
    {
      "cell_type": "code",
      "metadata": {
        "id": "5l626c0LwFvw",
        "colab_type": "code",
        "colab": {
          "base_uri": "https://localhost:8080/",
          "height": 605
        },
        "outputId": "282f7470-6cb5-42ba-9b57-c3b029a5ae8c"
      },
      "source": [
        "# know the terms: parent, siblin, child\n",
        "print(soup.body.prettify())\n",
        "soup.body.find('div').find_next_siblings()"
      ],
      "execution_count": 63,
      "outputs": [
        {
          "output_type": "stream",
          "text": [
            "<body>\n",
            " <div align=\"middle\">\n",
            "  <h1>\n",
            "   HTML Webpage\n",
            "  </h1>\n",
            "  <p>\n",
            "   Link to more interesting example:\n",
            "   <a href=\"https://keithgalli.github.io/web-scraping/webpage.html\">\n",
            "    keithgalli.github.io/web-scraping/webpage.html\n",
            "   </a>\n",
            "  </p>\n",
            " </div>\n",
            " <h2>\n",
            "  A Header\n",
            " </h2>\n",
            " <p>\n",
            "  <i>\n",
            "   Some italicized text\n",
            "  </i>\n",
            " </p>\n",
            " <h2>\n",
            "  Another header\n",
            " </h2>\n",
            " <p id=\"paragraph-id\">\n",
            "  <b>\n",
            "   Some bold text\n",
            "  </b>\n",
            " </p>\n",
            "</body>\n",
            "\n"
          ],
          "name": "stdout"
        },
        {
          "output_type": "execute_result",
          "data": {
            "text/plain": [
              "[<h2>A Header</h2>,\n",
              " <p><i>Some italicized text</i></p>,\n",
              " <h2>Another header</h2>,\n",
              " <p id=\"paragraph-id\"><b>Some bold text</b></p>]"
            ]
          },
          "metadata": {
            "tags": []
          },
          "execution_count": 63
        }
      ]
    },
    {
      "cell_type": "markdown",
      "metadata": {
        "id": "2xcIDuSexbDL",
        "colab_type": "text"
      },
      "source": [
        "## Exercise 1: Grab all social links on webpage in 3 different ways"
      ]
    },
    {
      "cell_type": "code",
      "metadata": {
        "id": "YxMwLcq0wdww",
        "colab_type": "code",
        "colab": {
          "base_uri": "https://localhost:8080/",
          "height": 1000
        },
        "outputId": "d266e26e-3d1d-4522-b438-eae8846c6f7b"
      },
      "source": [
        "# Load the webpage content\n",
        "url = 'https://keithgalli.github.io/web-scraping/webpage.html'\n",
        "r = requests.get(url)\n",
        "\n",
        "# Convert to a beautifulsoup object\n",
        "webpage = bs(r.content, 'html.parser')\n",
        "\n",
        "# Print out our html\n",
        "print(webpage.prettify())"
      ],
      "execution_count": 65,
      "outputs": [
        {
          "output_type": "stream",
          "text": [
            "<head>\n",
            " <title>\n",
            "  Keith Galli's Page\n",
            " </title>\n",
            " <style>\n",
            "  table {\n",
            "    border-collapse: collapse;\n",
            "  }\n",
            "  th {\n",
            "    padding:5px;\n",
            "  }\n",
            "  td {\n",
            "    border: 1px solid #ddd;\n",
            "    padding: 5px;\n",
            "  }\n",
            "  tr:nth-child(even) {\n",
            "    background-color: #f2f2f2;\n",
            "  }\n",
            "  th {\n",
            "    padding-top: 12px;\n",
            "    padding-bottom: 12px;\n",
            "    text-align: left;\n",
            "    background-color: #add8e6;\n",
            "    color: black;\n",
            "  }\n",
            "  .block {\n",
            "  width: 100px;\n",
            "  /*float: left;*/\n",
            "    display: inline-block;\n",
            "    zoom: 1;\n",
            "  }\n",
            "  .column {\n",
            "  float: left;\n",
            "  height: 200px;\n",
            "  /*width: 33.33%;*/\n",
            "  padding: 5px;\n",
            "  }\n",
            "\n",
            "  .row::after {\n",
            "    content: \"\";\n",
            "    clear: both;\n",
            "    display: table;\n",
            "  }\n",
            " </style>\n",
            "</head>\n",
            "<body>\n",
            " <h1>\n",
            "  Welcome to my page!\n",
            " </h1>\n",
            " <img src=\"./images/selfie1.jpg\" width=\"300px\"/>\n",
            " <h2>\n",
            "  About me\n",
            " </h2>\n",
            " <p>\n",
            "  Hi, my name is Keith and I am a YouTuber who focuses on content related to programming, data science, and machine learning!\n",
            " </p>\n",
            " <p>\n",
            "  Here is a link to my channel:\n",
            "  <a href=\"https://www.youtube.com/kgmit\">\n",
            "   youtube.com/kgmit\n",
            "  </a>\n",
            " </p>\n",
            " <p>\n",
            "  I grew up in the great state of New Hampshire here in the USA. From an early age I always loved math. Around my senior year of high school, my brother first introduced me to programming. I found it a creative way to apply the same type of logical thinking skills that I enjoyed with math. This influenced me to study computer science in college and ultimately create a YouTube channel to share some things that I have learned along the way.\n",
            " </p>\n",
            " <h3>\n",
            "  Hobbies\n",
            " </h3>\n",
            " <p>\n",
            "  Believe it or not, I don't code 24/7. I love doing all sorts of active things. I like to play ice hockey &amp; table tennis as well as run, hike, skateboard, and snowboard. In addition to sports, I am a board game enthusiast. The two that I've been playing the most recently are\n",
            "  <i>\n",
            "   Settlers of Catan\n",
            "  </i>\n",
            "  and\n",
            "  <i>\n",
            "   Othello\n",
            "  </i>\n",
            "  .\n",
            " </p>\n",
            " <h3>\n",
            "  Fun Facts\n",
            " </h3>\n",
            " <ul class=\"fun-facts\">\n",
            "  <li>\n",
            "   Owned my dream car in high school\n",
            "   <a href=\"#footer\">\n",
            "    <sup>\n",
            "     1\n",
            "    </sup>\n",
            "   </a>\n",
            "  </li>\n",
            "  <li>\n",
            "   Middle name is Ronald\n",
            "  </li>\n",
            "  <li>\n",
            "   Never had been on a plane until college\n",
            "  </li>\n",
            "  <li>\n",
            "   Dunkin Donuts coffee is better than Starbucks\n",
            "  </li>\n",
            "  <li>\n",
            "   A favorite book series of mine is\n",
            "   <i>\n",
            "    Ender's Game\n",
            "   </i>\n",
            "  </li>\n",
            "  <li>\n",
            "   Current video game of choice is\n",
            "   <i>\n",
            "    Rocket League\n",
            "   </i>\n",
            "  </li>\n",
            "  <li>\n",
            "   The band that I've seen the most times live is the\n",
            "   <i>\n",
            "    Zac Brown Band\n",
            "   </i>\n",
            "  </li>\n",
            " </ul>\n",
            " <h2>\n",
            "  Social Media\n",
            " </h2>\n",
            " I encourage you to check out my content on all social media platforms\n",
            " <br/>\n",
            " <ul class=\"socials\">\n",
            "  <li class=\"social instagram\">\n",
            "   <b>\n",
            "    Instagram:\n",
            "   </b>\n",
            "   <a href=\"https://www.instagram.com/keithgalli/\">\n",
            "    https://www.instagram.com/keithgalli/\n",
            "   </a>\n",
            "  </li>\n",
            "  <li class=\"social twitter\">\n",
            "   <b>\n",
            "    Twitter:\n",
            "   </b>\n",
            "   <a href=\"https://twitter.com/keithgalli\">\n",
            "    https://twitter.com/keithgalli\n",
            "   </a>\n",
            "  </li>\n",
            "  <li class=\"social linkedin\">\n",
            "   <b>\n",
            "    LinkedIn:\n",
            "   </b>\n",
            "   <a href=\"https://www.linkedin.com/in/keithgalli/\">\n",
            "    https://www.linkedin.com/in/keithgalli/\n",
            "   </a>\n",
            "  </li>\n",
            "  <li class=\"social tiktok\">\n",
            "   <b>\n",
            "    TikTok:\n",
            "   </b>\n",
            "   <a href=\"https://www.tiktok.com/@keithgalli\">\n",
            "    https://www.tiktok.com/@keithgalli\n",
            "   </a>\n",
            "  </li>\n",
            " </ul>\n",
            " <h2>\n",
            "  Photos\n",
            " </h2>\n",
            " Here are a few photos from a trip to italy I took last year\n",
            " <div class=\"row\">\n",
            "  <div class=\"column\">\n",
            "   <img alt=\"Lake Como\" src=\"images/italy/lake_como.jpg\" style=\"height:100%\"/>\n",
            "  </div>\n",
            "  <div class=\"column\">\n",
            "   <img alt=\"Pontevecchio, Florence\" src=\"images/italy/pontevecchio.jpg\" style=\"height:100%\"/>\n",
            "  </div>\n",
            "  <div class=\"column\">\n",
            "   <img alt=\"Riomaggiore, Cinque de Terre\" src=\"images/italy/riomaggiore.jpg\" style=\"height:100%\"/>\n",
            "  </div>\n",
            " </div>\n",
            " <div>\n",
            " </div>\n",
            " <h2>\n",
            "  Table\n",
            " </h2>\n",
            " My MIT hockey stats :)\n",
            " <br/>\n",
            " <table class=\"hockey-stats\">\n",
            "  <thead>\n",
            "   <tr>\n",
            "    <th class=\"season\" data-sort=\"\">\n",
            "     S\n",
            "    </th>\n",
            "    <th class=\"team\" data-sort=\"team\">\n",
            "     Team\n",
            "    </th>\n",
            "    <th class=\"league\" data-sort=\"league\">\n",
            "     League\n",
            "    </th>\n",
            "    <th class=\"regular gp\" data-sort=\"gp\">\n",
            "     GP\n",
            "    </th>\n",
            "    <th class=\"regular g\" data-sort=\"g\">\n",
            "     G\n",
            "    </th>\n",
            "    <th class=\"regular a\" data-sort=\"a\">\n",
            "     A\n",
            "    </th>\n",
            "    <th class=\"regular tp\" data-sort=\"tp\">\n",
            "     TP\n",
            "    </th>\n",
            "    <th class=\"regular pim\" data-sort=\"pim\">\n",
            "     PIM\n",
            "    </th>\n",
            "    <th class=\"regular pm\" data-sort=\"pm\">\n",
            "     +/-\n",
            "    </th>\n",
            "    <th class=\"separator\">\n",
            "    </th>\n",
            "    <th class=\"postseason\">\n",
            "     POST\n",
            "    </th>\n",
            "    <th class=\"postseason gp\" data-sort=\"playoffs-gp\">\n",
            "     GP\n",
            "    </th>\n",
            "    <th class=\"postseason g\" data-sort=\"playoffs-g\">\n",
            "     G\n",
            "    </th>\n",
            "    <th class=\"postseason a\" data-sort=\"playoffs-a\">\n",
            "     A\n",
            "    </th>\n",
            "    <th class=\"postseason tp\" data-sort=\"playoffs-tp\">\n",
            "     TP\n",
            "    </th>\n",
            "    <th class=\"postseason pim\" data-sort=\"playoffs-pim\">\n",
            "     PIM\n",
            "    </th>\n",
            "    <th class=\"postseason pm\" data-sort=\"playoffs-pm\">\n",
            "     +/-\n",
            "    </th>\n",
            "   </tr>\n",
            "  </thead>\n",
            "  <tbody>\n",
            "   <tr class=\"team-continent-NA \">\n",
            "    <td class=\"season sorted\">\n",
            "     2014-15\n",
            "    </td>\n",
            "    <td class=\"team\">\n",
            "     <i>\n",
            "      <img src=\"images/flag.png\"/>\n",
            "     </i>\n",
            "     <span class=\"txt-blue\">\n",
            "      <a href=\"https://www.eliteprospects.com/team/10263/mit-mass.-inst.-of-tech./2014-2015?tab=stats\">\n",
            "       MIT (Mass. Inst. of Tech.)\n",
            "      </a>\n",
            "     </span>\n",
            "    </td>\n",
            "    <td class=\"league\">\n",
            "     <a href=\"https://www.eliteprospects.com/league/acha-ii/stats/2014-2015\">\n",
            "      ACHA II\n",
            "     </a>\n",
            "    </td>\n",
            "    <td class=\"regular gp\">\n",
            "     17\n",
            "    </td>\n",
            "    <td class=\"regular g\">\n",
            "     3\n",
            "    </td>\n",
            "    <td class=\"regular a\">\n",
            "     9\n",
            "    </td>\n",
            "    <td class=\"regular tp\">\n",
            "     12\n",
            "    </td>\n",
            "    <td class=\"regular pim\">\n",
            "     20\n",
            "    </td>\n",
            "    <td class=\"regular pm\">\n",
            "    </td>\n",
            "    <td class=\"separator\">\n",
            "     |\n",
            "    </td>\n",
            "    <td class=\"postseason\">\n",
            "     <a href=\"https://www.eliteprospects.com/league/acha-ii/stats/2014-2015\">\n",
            "     </a>\n",
            "    </td>\n",
            "    <td class=\"postseason gp\">\n",
            "    </td>\n",
            "    <td class=\"postseason g\">\n",
            "    </td>\n",
            "    <td class=\"postseason a\">\n",
            "    </td>\n",
            "    <td class=\"postseason tp\">\n",
            "    </td>\n",
            "    <td class=\"postseason pim\">\n",
            "    </td>\n",
            "    <td class=\"postseason pm\">\n",
            "    </td>\n",
            "   </tr>\n",
            "   <tr class=\"team-continent-NA \">\n",
            "    <td class=\"season sorted\">\n",
            "     2015-16\n",
            "    </td>\n",
            "    <td class=\"team\">\n",
            "     <i>\n",
            "      <img src=\"images/flag.png\"/>\n",
            "     </i>\n",
            "     <span class=\"txt-blue\">\n",
            "      <a href=\"https://www.eliteprospects.com/team/10263/mit-mass.-inst.-of-tech./2015-2016?tab=stats\">\n",
            "       MIT (Mass. Inst. of Tech.)\n",
            "      </a>\n",
            "     </span>\n",
            "    </td>\n",
            "    <td class=\"league\">\n",
            "     <a href=\"https://www.eliteprospects.com/league/acha-ii/stats/2015-2016\">\n",
            "      ACHA II\n",
            "     </a>\n",
            "    </td>\n",
            "    <td class=\"regular gp\">\n",
            "     9\n",
            "    </td>\n",
            "    <td class=\"regular g\">\n",
            "     1\n",
            "    </td>\n",
            "    <td class=\"regular a\">\n",
            "     1\n",
            "    </td>\n",
            "    <td class=\"regular tp\">\n",
            "     2\n",
            "    </td>\n",
            "    <td class=\"regular pim\">\n",
            "     2\n",
            "    </td>\n",
            "    <td class=\"regular pm\">\n",
            "    </td>\n",
            "    <td class=\"separator\">\n",
            "     |\n",
            "    </td>\n",
            "    <td class=\"postseason\">\n",
            "     <a href=\"https://www.eliteprospects.com/league/acha-ii/stats/2015-2016\">\n",
            "     </a>\n",
            "    </td>\n",
            "    <td class=\"postseason gp\">\n",
            "    </td>\n",
            "    <td class=\"postseason g\">\n",
            "    </td>\n",
            "    <td class=\"postseason a\">\n",
            "    </td>\n",
            "    <td class=\"postseason tp\">\n",
            "    </td>\n",
            "    <td class=\"postseason pim\">\n",
            "    </td>\n",
            "    <td class=\"postseason pm\">\n",
            "    </td>\n",
            "   </tr>\n",
            "   <tr class=\"team-continent-NA \">\n",
            "    <td class=\"season sorted\">\n",
            "     2016-17\n",
            "    </td>\n",
            "    <td class=\"team\">\n",
            "     <i>\n",
            "      <img src=\"images/flag.png\"/>\n",
            "     </i>\n",
            "     <span class=\"txt-blue\">\n",
            "      <a href=\"https://www.eliteprospects.com/team/10263/mit-mass.-inst.-of-tech./2016-2017?tab=stats\">\n",
            "       MIT (Mass. Inst. of Tech.)\n",
            "      </a>\n",
            "     </span>\n",
            "    </td>\n",
            "    <td class=\"league\">\n",
            "     <a href=\"https://www.eliteprospects.com/league/acha-ii/stats/2016-2017\">\n",
            "      ACHA II\n",
            "     </a>\n",
            "    </td>\n",
            "    <td class=\"regular gp\">\n",
            "     12\n",
            "    </td>\n",
            "    <td class=\"regular g\">\n",
            "     5\n",
            "    </td>\n",
            "    <td class=\"regular a\">\n",
            "     5\n",
            "    </td>\n",
            "    <td class=\"regular tp\">\n",
            "     10\n",
            "    </td>\n",
            "    <td class=\"regular pim\">\n",
            "     8\n",
            "    </td>\n",
            "    <td class=\"regular pm\">\n",
            "     0\n",
            "    </td>\n",
            "    <td class=\"separator\">\n",
            "     |\n",
            "    </td>\n",
            "    <td class=\"postseason\">\n",
            "    </td>\n",
            "    <td class=\"postseason gp\">\n",
            "    </td>\n",
            "    <td class=\"postseason g\">\n",
            "    </td>\n",
            "    <td class=\"postseason a\">\n",
            "    </td>\n",
            "    <td class=\"postseason tp\">\n",
            "    </td>\n",
            "    <td class=\"postseason pim\">\n",
            "    </td>\n",
            "    <td class=\"postseason pm\">\n",
            "    </td>\n",
            "   </tr>\n",
            "   <tr class=\"team-continent-EU \">\n",
            "    <td class=\"season sorted\">\n",
            "     2017-18\n",
            "    </td>\n",
            "    <td class=\"team\">\n",
            "     Did not play\n",
            "    </td>\n",
            "    <td class=\"league\">\n",
            "     <a href=\"https://www.eliteprospects.com/stats\">\n",
            "     </a>\n",
            "    </td>\n",
            "    <td class=\"regular gp\">\n",
            "    </td>\n",
            "    <td class=\"regular g\">\n",
            "    </td>\n",
            "    <td class=\"regular a\">\n",
            "    </td>\n",
            "    <td class=\"regular tp\">\n",
            "    </td>\n",
            "    <td class=\"regular pim\">\n",
            "    </td>\n",
            "    <td class=\"regular pm\">\n",
            "    </td>\n",
            "    <td class=\"separator\">\n",
            "     |\n",
            "    </td>\n",
            "    <td class=\"postseason\">\n",
            "     <a href=\"https://www.eliteprospects.com/stats\">\n",
            "     </a>\n",
            "    </td>\n",
            "    <td class=\"postseason gp\">\n",
            "    </td>\n",
            "    <td class=\"postseason g\">\n",
            "    </td>\n",
            "    <td class=\"postseason a\">\n",
            "    </td>\n",
            "    <td class=\"postseason tp\">\n",
            "    </td>\n",
            "    <td class=\"postseason pim\">\n",
            "    </td>\n",
            "    <td class=\"postseason pm\">\n",
            "    </td>\n",
            "   </tr>\n",
            "   <tr class=\"team-continent-NA \">\n",
            "    <td class=\"season sorted\">\n",
            "     2018-19\n",
            "    </td>\n",
            "    <td class=\"team\">\n",
            "     <i>\n",
            "      <img src=\"images/flag.png\"/>\n",
            "     </i>\n",
            "     <span class=\"txt-blue\">\n",
            "      <a href=\"https://www.eliteprospects.com/team/10263/mit-mass.-inst.-of-tech./2018-2019?tab=stats\">\n",
            "       MIT (Mass. Inst. of Tech.)\n",
            "      </a>\n",
            "     </span>\n",
            "    </td>\n",
            "    <td class=\"league\">\n",
            "     <a href=\"https://www.eliteprospects.com/league/acha-iii/stats/2018-2019\">\n",
            "      ACHA III\n",
            "     </a>\n",
            "    </td>\n",
            "    <td class=\"regular gp\">\n",
            "     8\n",
            "    </td>\n",
            "    <td class=\"regular g\">\n",
            "     5\n",
            "    </td>\n",
            "    <td class=\"regular a\">\n",
            "     10\n",
            "    </td>\n",
            "    <td class=\"regular tp\">\n",
            "     15\n",
            "    </td>\n",
            "    <td class=\"regular pim\">\n",
            "     8\n",
            "    </td>\n",
            "    <td class=\"regular pm\">\n",
            "    </td>\n",
            "    <td class=\"separator\">\n",
            "     |\n",
            "    </td>\n",
            "    <td class=\"postseason\">\n",
            "     <a href=\"https://www.eliteprospects.com/league/acha-iii/stats/2018-2019\">\n",
            "     </a>\n",
            "    </td>\n",
            "    <td class=\"postseason gp\">\n",
            "    </td>\n",
            "    <td class=\"postseason g\">\n",
            "    </td>\n",
            "    <td class=\"postseason a\">\n",
            "    </td>\n",
            "    <td class=\"postseason tp\">\n",
            "    </td>\n",
            "    <td class=\"postseason pim\">\n",
            "    </td>\n",
            "    <td class=\"postseason pm\">\n",
            "    </td>\n",
            "   </tr>\n",
            "  </tbody>\n",
            " </table>\n",
            " <h2>\n",
            "  Mystery Message Challenge!\n",
            " </h2>\n",
            " <p>\n",
            "  If you scrape the links below grabbing the &lt;p&gt; tag with id=\"secret-word\", you'll discover a secret message :)\n",
            " </p>\n",
            " <div width=\"50%\">\n",
            "  <div align=\"left\" class=\"block\">\n",
            "   <ul>\n",
            "    <li>\n",
            "     <a href=\"challenge/file_1.html\">\n",
            "      File 1\n",
            "     </a>\n",
            "    </li>\n",
            "    <li>\n",
            "     <a href=\"challenge/file_2.html\">\n",
            "      File 2\n",
            "     </a>\n",
            "    </li>\n",
            "    <li>\n",
            "     <a href=\"challenge/file_3.html\">\n",
            "      File 3\n",
            "     </a>\n",
            "    </li>\n",
            "    <li>\n",
            "     <a href=\"challenge/file_4.html\">\n",
            "      File 4\n",
            "     </a>\n",
            "    </li>\n",
            "    <li>\n",
            "     <a href=\"challenge/file_5.html\">\n",
            "      File 5\n",
            "     </a>\n",
            "    </li>\n",
            "   </ul>\n",
            "  </div>\n",
            "  <div align=\"center\" class=\"block\">\n",
            "   <ul>\n",
            "    <li>\n",
            "     <a href=\"challenge/file_6.html\">\n",
            "      File 6\n",
            "     </a>\n",
            "    </li>\n",
            "    <li>\n",
            "     <a href=\"challenge/file_7.html\">\n",
            "      File 7\n",
            "     </a>\n",
            "    </li>\n",
            "    <li>\n",
            "     <a href=\"challenge/file_8.html\">\n",
            "      File 8\n",
            "     </a>\n",
            "    </li>\n",
            "    <li>\n",
            "     <a href=\"challenge/file_9.html\">\n",
            "      File 9\n",
            "     </a>\n",
            "    </li>\n",
            "    <li>\n",
            "     <a href=\"challenge/file_10.html\">\n",
            "      File 10\n",
            "     </a>\n",
            "    </li>\n",
            "   </ul>\n",
            "  </div>\n",
            " </div>\n",
            " <h2>\n",
            "  Footnotes\n",
            " </h2>\n",
            " <p id=\"footer\">\n",
            "  1. This was actually a minivan that I named Debora. Maybe not my dream car, but I loved her nonetheless.\n",
            " </p>\n",
            "</body>\n",
            "\n"
          ],
          "name": "stdout"
        }
      ]
    },
    {
      "cell_type": "markdown",
      "metadata": {
        "id": "bmh44cccydyH",
        "colab_type": "text"
      },
      "source": [
        "### Grab all of the social links from webpage\n",
        "\n",
        "Do this in at least 3 different ways"
      ]
    },
    {
      "cell_type": "code",
      "metadata": {
        "id": "GRpVAEp2yviZ",
        "colab_type": "code",
        "colab": {
          "base_uri": "https://localhost:8080/",
          "height": 175
        },
        "outputId": "11edc2ae-fcb8-4fa8-e907-39829a6c1369"
      },
      "source": [
        "links = webpage.select('ul.socials a')\n",
        "print(links)\n",
        "\n",
        "actual_links = [link['href'] for link in links]\n",
        "print(actual_links)\n",
        "print()\n",
        "\n",
        "# or\n",
        "links = webpage.find('ul', attrs={'class':'socials'})\n",
        "links = links.find_all('a')\n",
        "print(links)\n",
        "\n",
        "actual_links = [link['href'] for link in links]\n",
        "print(actual_links)\n",
        "print()\n",
        "\n",
        "# or\n",
        "links = webpage.select('li.social a')\n",
        "print(links)\n",
        "actual_links = [link['href'] for link in links]\n",
        "print(actual_links)"
      ],
      "execution_count": 95,
      "outputs": [
        {
          "output_type": "stream",
          "text": [
            "[<a href=\"https://www.instagram.com/keithgalli/\">https://www.instagram.com/keithgalli/</a>, <a href=\"https://twitter.com/keithgalli\">https://twitter.com/keithgalli</a>, <a href=\"https://www.linkedin.com/in/keithgalli/\">https://www.linkedin.com/in/keithgalli/</a>, <a href=\"https://www.tiktok.com/@keithgalli\">https://www.tiktok.com/@keithgalli</a>]\n",
            "['https://www.instagram.com/keithgalli/', 'https://twitter.com/keithgalli', 'https://www.linkedin.com/in/keithgalli/', 'https://www.tiktok.com/@keithgalli']\n",
            "\n",
            "[<a href=\"https://www.instagram.com/keithgalli/\">https://www.instagram.com/keithgalli/</a>, <a href=\"https://twitter.com/keithgalli\">https://twitter.com/keithgalli</a>, <a href=\"https://www.linkedin.com/in/keithgalli/\">https://www.linkedin.com/in/keithgalli/</a>, <a href=\"https://www.tiktok.com/@keithgalli\">https://www.tiktok.com/@keithgalli</a>]\n",
            "['https://www.instagram.com/keithgalli/', 'https://twitter.com/keithgalli', 'https://www.linkedin.com/in/keithgalli/', 'https://www.tiktok.com/@keithgalli']\n",
            "\n",
            "[<a href=\"https://www.instagram.com/keithgalli/\">https://www.instagram.com/keithgalli/</a>, <a href=\"https://twitter.com/keithgalli\">https://twitter.com/keithgalli</a>, <a href=\"https://www.linkedin.com/in/keithgalli/\">https://www.linkedin.com/in/keithgalli/</a>, <a href=\"https://www.tiktok.com/@keithgalli\">https://www.tiktok.com/@keithgalli</a>]\n",
            "['https://www.instagram.com/keithgalli/', 'https://twitter.com/keithgalli', 'https://www.linkedin.com/in/keithgalli/', 'https://www.tiktok.com/@keithgalli']\n"
          ],
          "name": "stdout"
        }
      ]
    },
    {
      "cell_type": "markdown",
      "metadata": {
        "id": "838DXYNGxmke",
        "colab_type": "text"
      },
      "source": [
        "## Exercise 2: Scrape an HTML table into a Pandas Dataframe"
      ]
    },
    {
      "cell_type": "markdown",
      "metadata": {
        "id": "NwL_9aK52X0c",
        "colab_type": "text"
      },
      "source": [
        "### Scrape the Table"
      ]
    },
    {
      "cell_type": "code",
      "metadata": {
        "id": "VFRAg5fTyvb6",
        "colab_type": "code",
        "colab": {}
      },
      "source": [
        "import pandas as pd\n",
        "\n",
        "table = webpage.select('table.hockey-stats')[0]\n",
        "columns = table.find('thead').find_all('th')\n",
        "columns_name = [c.string for c in columns]\n",
        "columns_name\n",
        "\n",
        "table_rows = table.find('tbody').find_all('tr')\n",
        "\n",
        "l = []\n",
        "for tr in table_rows:\n",
        "  td = tr.find_all('td')\n",
        "  row = [str(tr.get_text()).strip() for tr in td]\n",
        "  l.append(row)"
      ],
      "execution_count": 109,
      "outputs": []
    },
    {
      "cell_type": "code",
      "metadata": {
        "id": "EclsehaF5IrE",
        "colab_type": "code",
        "colab": {
          "base_uri": "https://localhost:8080/",
          "height": 168
        },
        "outputId": "4d2b2545-1fbd-4467-d7eb-3af24e613e79"
      },
      "source": [
        "df = pd.DataFrame(l, columns=columns_name)\n",
        "df.loc[df.Team != 'Did not play']"
      ],
      "execution_count": 114,
      "outputs": [
        {
          "output_type": "execute_result",
          "data": {
            "text/html": [
              "<div>\n",
              "<style scoped>\n",
              "    .dataframe tbody tr th:only-of-type {\n",
              "        vertical-align: middle;\n",
              "    }\n",
              "\n",
              "    .dataframe tbody tr th {\n",
              "        vertical-align: top;\n",
              "    }\n",
              "\n",
              "    .dataframe thead th {\n",
              "        text-align: right;\n",
              "    }\n",
              "</style>\n",
              "<table border=\"1\" class=\"dataframe\">\n",
              "  <thead>\n",
              "    <tr style=\"text-align: right;\">\n",
              "      <th></th>\n",
              "      <th>S</th>\n",
              "      <th>Team</th>\n",
              "      <th>League</th>\n",
              "      <th>GP</th>\n",
              "      <th>G</th>\n",
              "      <th>A</th>\n",
              "      <th>TP</th>\n",
              "      <th>PIM</th>\n",
              "      <th>+/-</th>\n",
              "      <th></th>\n",
              "      <th>POST</th>\n",
              "      <th>GP</th>\n",
              "      <th>G</th>\n",
              "      <th>A</th>\n",
              "      <th>TP</th>\n",
              "      <th>PIM</th>\n",
              "      <th>+/-</th>\n",
              "    </tr>\n",
              "  </thead>\n",
              "  <tbody>\n",
              "    <tr>\n",
              "      <th>0</th>\n",
              "      <td>2014-15</td>\n",
              "      <td>MIT (Mass. Inst. of Tech.)</td>\n",
              "      <td>ACHA II</td>\n",
              "      <td>17</td>\n",
              "      <td>3</td>\n",
              "      <td>9</td>\n",
              "      <td>12</td>\n",
              "      <td>20</td>\n",
              "      <td></td>\n",
              "      <td>|</td>\n",
              "      <td></td>\n",
              "      <td></td>\n",
              "      <td></td>\n",
              "      <td></td>\n",
              "      <td></td>\n",
              "      <td></td>\n",
              "      <td></td>\n",
              "    </tr>\n",
              "    <tr>\n",
              "      <th>1</th>\n",
              "      <td>2015-16</td>\n",
              "      <td>MIT (Mass. Inst. of Tech.)</td>\n",
              "      <td>ACHA II</td>\n",
              "      <td>9</td>\n",
              "      <td>1</td>\n",
              "      <td>1</td>\n",
              "      <td>2</td>\n",
              "      <td>2</td>\n",
              "      <td></td>\n",
              "      <td>|</td>\n",
              "      <td></td>\n",
              "      <td></td>\n",
              "      <td></td>\n",
              "      <td></td>\n",
              "      <td></td>\n",
              "      <td></td>\n",
              "      <td></td>\n",
              "    </tr>\n",
              "    <tr>\n",
              "      <th>2</th>\n",
              "      <td>2016-17</td>\n",
              "      <td>MIT (Mass. Inst. of Tech.)</td>\n",
              "      <td>ACHA II</td>\n",
              "      <td>12</td>\n",
              "      <td>5</td>\n",
              "      <td>5</td>\n",
              "      <td>10</td>\n",
              "      <td>8</td>\n",
              "      <td>0</td>\n",
              "      <td>|</td>\n",
              "      <td></td>\n",
              "      <td></td>\n",
              "      <td></td>\n",
              "      <td></td>\n",
              "      <td></td>\n",
              "      <td></td>\n",
              "      <td></td>\n",
              "    </tr>\n",
              "    <tr>\n",
              "      <th>4</th>\n",
              "      <td>2018-19</td>\n",
              "      <td>MIT (Mass. Inst. of Tech.)</td>\n",
              "      <td>ACHA III</td>\n",
              "      <td>8</td>\n",
              "      <td>5</td>\n",
              "      <td>10</td>\n",
              "      <td>15</td>\n",
              "      <td>8</td>\n",
              "      <td></td>\n",
              "      <td>|</td>\n",
              "      <td></td>\n",
              "      <td></td>\n",
              "      <td></td>\n",
              "      <td></td>\n",
              "      <td></td>\n",
              "      <td></td>\n",
              "      <td></td>\n",
              "    </tr>\n",
              "  </tbody>\n",
              "</table>\n",
              "</div>"
            ],
            "text/plain": [
              "         S                        Team    League  GP  G   A  ... GP G A TP PIM +/-\n",
              "0  2014-15  MIT (Mass. Inst. of Tech.)   ACHA II  17  3   9  ...                  \n",
              "1  2015-16  MIT (Mass. Inst. of Tech.)   ACHA II   9  1   1  ...                  \n",
              "2  2016-17  MIT (Mass. Inst. of Tech.)   ACHA II  12  5   5  ...                  \n",
              "4  2018-19  MIT (Mass. Inst. of Tech.)  ACHA III   8  5  10  ...                  \n",
              "\n",
              "[4 rows x 17 columns]"
            ]
          },
          "metadata": {
            "tags": []
          },
          "execution_count": 114
        }
      ]
    },
    {
      "cell_type": "markdown",
      "metadata": {
        "id": "Ryot_S-IxorU",
        "colab_type": "text"
      },
      "source": [
        "## Exercise 3: Grab all fun facts that contain the word “is”"
      ]
    },
    {
      "cell_type": "code",
      "metadata": {
        "id": "pClHXgwNxrAf",
        "colab_type": "code",
        "colab": {
          "base_uri": "https://localhost:8080/",
          "height": 104
        },
        "outputId": "78660506-ba0f-468b-a15c-ddf4acc2694a"
      },
      "source": [
        "import re\n",
        "\n",
        "facts = webpage.select('ul.fun-facts li')\n",
        "facts_with_is = [fact.find(string=re.compile('is')) for fact in facts]\n",
        "# fwi = [fact.strip() for fact in facts_with_is if fact]\n",
        "fwi = [fact.find_parent().get_text() for fact in facts_with_is if fact]\n",
        "fwi"
      ],
      "execution_count": 127,
      "outputs": [
        {
          "output_type": "execute_result",
          "data": {
            "text/plain": [
              "['Middle name is Ronald',\n",
              " 'Dunkin Donuts coffee is better than Starbucks',\n",
              " \"A favorite book series of mine is Ender's Game\",\n",
              " 'Current video game of choice is Rocket League',\n",
              " \"The band that I've seen the most times live is the Zac Brown Band\"]"
            ]
          },
          "metadata": {
            "tags": []
          },
          "execution_count": 127
        }
      ]
    },
    {
      "cell_type": "markdown",
      "metadata": {
        "id": "-FvPFzLwxrhH",
        "colab_type": "text"
      },
      "source": [
        "## Exercise 4: Use beautiful soup to help download an image from a webpage"
      ]
    },
    {
      "cell_type": "code",
      "metadata": {
        "id": "v7mmPeMTxtoK",
        "colab_type": "code",
        "colab": {
          "base_uri": "https://localhost:8080/",
          "height": 55
        },
        "outputId": "67a065f9-081c-43e2-de76-38caae5196c2"
      },
      "source": [
        "import requests  # pip install requests\n",
        "from bs4 import BeautifulSoup as bs  # pip install beautifulsoup4\n",
        "\n",
        "# Load the webpage content\n",
        "im = 'https://keithgalli.github.io/web-scraping/'\n",
        "url = im + 'webpage.html'\n",
        "r = requests.get(url)\n",
        "\n",
        "# Convert to a beautifulsoup object\n",
        "webpage = bs(r.content, 'html.parser')\n",
        "\n",
        "print(webpage.select('div.row div.column img'))\n",
        "\n",
        "images = webpage.select('div.row div.column img')\n",
        "image_url = images[0]['src']\n",
        "full_image_url = url + image_url\n",
        "\n",
        "import requests\n",
        "\n",
        "img_data = requests.get(full_image_url).content\n",
        "\n",
        "with open('image_name.jpg', 'wb') as handler:\n",
        "    handler.write(img_data)"
      ],
      "execution_count": 130,
      "outputs": [
        {
          "output_type": "stream",
          "text": [
            "[<img alt=\"Lake Como\" src=\"images/italy/lake_como.jpg\" style=\"height:100%\"/>, <img alt=\"Pontevecchio, Florence\" src=\"images/italy/pontevecchio.jpg\" style=\"height:100%\"/>, <img alt=\"Riomaggiore, Cinque de Terre\" src=\"images/italy/riomaggiore.jpg\" style=\"height:100%\"/>]\n"
          ],
          "name": "stdout"
        }
      ]
    },
    {
      "cell_type": "markdown",
      "metadata": {
        "id": "liBV7TRuxvsA",
        "colab_type": "text"
      },
      "source": [
        "## Exercise 5: Solve the mystery challenge!!!"
      ]
    },
    {
      "cell_type": "code",
      "metadata": {
        "id": "6HuFfLYwxwmB",
        "colab_type": "code",
        "colab": {
          "base_uri": "https://localhost:8080/",
          "height": 35
        },
        "outputId": "fc3bff66-a43d-416a-e089-6aefb13e1a85"
      },
      "source": [
        "files = webpage.select('div.block a')\n",
        "# print(files)\n",
        "\n",
        "relative_files = [f['href'] for f in files]\n",
        "\n",
        "im = 'https://keithgalli.github.io/web-scraping/'\n",
        "for f in relative_files:\n",
        "  full_url = im + f\n",
        "  page = requests.get(full_url)\n",
        "  bs_page = bs(page.content)\n",
        "  # print(bs_page.body.prettify())\n",
        "  swe = bs_page.find('p', attrs={'id':'secret-word'})\n",
        "  sw = swe.string\n",
        "  print(sw)\n",
        "  break"
      ],
      "execution_count": 143,
      "outputs": [
        {
          "output_type": "stream",
          "text": [
            "Make\n"
          ],
          "name": "stdout"
        }
      ]
    },
    {
      "cell_type": "code",
      "metadata": {
        "id": "R9SkwbTtxxax",
        "colab_type": "code",
        "colab": {}
      },
      "source": [
        "pass"
      ],
      "execution_count": null,
      "outputs": []
    }
  ]
}