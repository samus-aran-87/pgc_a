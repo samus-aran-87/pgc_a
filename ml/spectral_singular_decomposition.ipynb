{
 "cells": [
  {
   "cell_type": "markdown",
   "metadata": {
    "colab_type": "text",
    "id": "dJZQ96Law0DD"
   },
   "source": [
    "## Спектральное разложение\n",
    "\n",
    "Спектральное разложение матрици $-$ это такое представление **квадратной** матрици $A$ в виде произведения трех матриц, $A=V\\Lambda V^{-1}$, где:\n",
    "  - $V$ $-$ матрица, столбци которой являются ортонормированными собственными векторами матрици $A$\n",
    "  - $\\Lambda$ $-$ диагональная матрица с соответствеющими собственными значениями на главной диагонали\n",
    "  - $V^{-1}$ $-$ матрица, обратная матрице $V$\n",
    "\n",
    "\n",
    "Дальнейшее обозначение: $X = S^T \\cdot D \\cdot S$"
   ]
  },
  {
   "cell_type": "code",
   "execution_count": 30,
   "metadata": {
    "colab": {
     "base_uri": "https://localhost:8080/",
     "height": 68
    },
    "colab_type": "code",
    "id": "XOM77WfQzImD",
    "outputId": "76ca176c-30ef-497d-a830-849664dd5c49"
   },
   "outputs": [
    {
     "data": {
      "text/plain": [
       "array([[ 1.,  2., -1.],\n",
       "       [ 2.,  2.,  5.],\n",
       "       [-1.,  5., -3.]])"
      ]
     },
     "execution_count": 30,
     "metadata": {
      "tags": []
     },
     "output_type": "execute_result"
    }
   ],
   "source": [
    "import numpy as np\n",
    "np.set_printoptions(precision=2, suppress=True)\n",
    "\n",
    "A = np.array([[1.0,2,-1],\n",
    "              [2,2,5],\n",
    "              [-1,5,-3]])\n",
    "\n",
    "A"
   ]
  },
  {
   "cell_type": "code",
   "execution_count": 0,
   "metadata": {
    "colab": {},
    "colab_type": "code",
    "id": "FfKLqfFmzOCy"
   },
   "outputs": [],
   "source": [
    "v, w = np.linalg.eigh(A)"
   ]
  },
  {
   "cell_type": "code",
   "execution_count": 32,
   "metadata": {
    "colab": {
     "base_uri": "https://localhost:8080/",
     "height": 102
    },
    "colab_type": "code",
    "id": "Pjqi7ON9zOAx",
    "outputId": "553347c8-aae6-4eed-b5d3-4262264eeed7"
   },
   "outputs": [
    {
     "name": "stdout",
     "output_type": "stream",
     "text": [
      "[-6.58  1.15  5.43] \n",
      "\n",
      "[[-0.25  0.93 -0.27]\n",
      " [ 0.53 -0.11 -0.84]\n",
      " [-0.81 -0.35 -0.47]]\n"
     ]
    }
   ],
   "source": [
    "print(v, \"\\n\") #собственные значения\n",
    "print(w) #собственные вектора"
   ]
  },
  {
   "cell_type": "code",
   "execution_count": 33,
   "metadata": {
    "colab": {
     "base_uri": "https://localhost:8080/",
     "height": 68
    },
    "colab_type": "code",
    "id": "11_Odw7-zN8X",
    "outputId": "633e7e0d-719d-4a09-cc12-b9ee0129a465"
   },
   "outputs": [
    {
     "data": {
      "text/plain": [
       "array([[-6.58,  0.  ,  0.  ],\n",
       "       [ 0.  ,  1.15,  0.  ],\n",
       "       [ 0.  ,  0.  ,  5.43]])"
      ]
     },
     "execution_count": 33,
     "metadata": {
      "tags": []
     },
     "output_type": "execute_result"
    }
   ],
   "source": [
    "D = np.diag(v)\n",
    "D"
   ]
  },
  {
   "cell_type": "code",
   "execution_count": 34,
   "metadata": {
    "colab": {
     "base_uri": "https://localhost:8080/",
     "height": 68
    },
    "colab_type": "code",
    "id": "nUc0mqrJzN6V",
    "outputId": "ca087050-ca1d-4de0-d102-3c335105fdd5"
   },
   "outputs": [
    {
     "data": {
      "text/plain": [
       "array([[-0.25,  0.53, -0.81],\n",
       "       [ 0.93, -0.11, -0.35],\n",
       "       [-0.27, -0.84, -0.47]])"
      ]
     },
     "execution_count": 34,
     "metadata": {
      "tags": []
     },
     "output_type": "execute_result"
    }
   ],
   "source": [
    "S = w.T\n",
    "S"
   ]
  },
  {
   "cell_type": "code",
   "execution_count": 35,
   "metadata": {
    "colab": {
     "base_uri": "https://localhost:8080/",
     "height": 68
    },
    "colab_type": "code",
    "id": "_cfr7VElzN4y",
    "outputId": "c8c79de0-0bde-48b3-bad5-bc070571f4bc"
   },
   "outputs": [
    {
     "data": {
      "text/plain": [
       "array([[-0.25,  0.93, -0.27],\n",
       "       [ 0.53, -0.11, -0.84],\n",
       "       [-0.81, -0.35, -0.47]])"
      ]
     },
     "execution_count": 35,
     "metadata": {
      "tags": []
     },
     "output_type": "execute_result"
    }
   ],
   "source": [
    "S.T"
   ]
  },
  {
   "cell_type": "code",
   "execution_count": 36,
   "metadata": {
    "colab": {
     "base_uri": "https://localhost:8080/",
     "height": 68
    },
    "colab_type": "code",
    "id": "3R40OyThzN2K",
    "outputId": "3bbd98fd-20bf-401f-801a-db9dcf1a52ce"
   },
   "outputs": [
    {
     "data": {
      "text/plain": [
       "array([[1., 0., 0.],\n",
       "       [0., 1., 0.],\n",
       "       [0., 0., 1.]])"
      ]
     },
     "execution_count": 36,
     "metadata": {
      "tags": []
     },
     "output_type": "execute_result"
    }
   ],
   "source": [
    "# S и S.T - ортоганальные\n",
    "np.dot(S.T, S)"
   ]
  },
  {
   "cell_type": "code",
   "execution_count": 38,
   "metadata": {
    "colab": {
     "base_uri": "https://localhost:8080/",
     "height": 136
    },
    "colab_type": "code",
    "id": "3GzM0hgRzNzX",
    "outputId": "99e7dad0-47a1-4790-c7fa-db7c0d4b4893"
   },
   "outputs": [
    {
     "name": "stdout",
     "output_type": "stream",
     "text": [
      "[[ 1.  2. -1.]\n",
      " [ 2.  2.  5.]\n",
      " [-1.  5. -3.]] \n",
      "\n",
      "[[ 1.  2. -1.]\n",
      " [ 2.  2.  5.]\n",
      " [-1.  5. -3.]]\n"
     ]
    }
   ],
   "source": [
    "# S.T, D, S - действительно образуют спектральное разложение\n",
    "print(A, \"\\n\") # изначальная матрица\n",
    "print(np.dot(np.dot(S.T, D), S))"
   ]
  },
  {
   "cell_type": "markdown",
   "metadata": {
    "colab_type": "text",
    "id": "B8cHq6T8pcBR"
   },
   "source": [
    "## Сингулярное разложение\n",
    "Сингулярное разложение матрици $M$ порядка $m\\ x\\  n$ является разложение матрици $M=U \\Sigma V^*$ где\n",
    "  - $\\Sigma$ - матрица $m\\ x\\  n$ с неотрицательными элементами, у которой элементы, лежащие на главной диагонали - это сингулярные числа (а все элементы, не лежащие на главной диагонали, являются нулевыми)\n",
    "  - а матрица $U$ (порядка $m$) и матрица $V$ (порядка $n$) $-$ это две унитарные матрици, состоящие из левых и правых сингулярных векторов соответственно (а $V^*$ $-$ это сопряженно-транспонированныя матрица к $V$) \n",
    "\n",
    "\n",
    "Далее обозначение вида: $X = U \\cdot D \\cdot V$"
   ]
  },
  {
   "cell_type": "code",
   "execution_count": 40,
   "metadata": {
    "colab": {
     "base_uri": "https://localhost:8080/",
     "height": 102
    },
    "colab_type": "code",
    "id": "zN4OGHAas9vR",
    "outputId": "fa338125-bffb-49c1-eaab-e618f685f1f3"
   },
   "outputs": [
    {
     "data": {
      "text/plain": [
       "array([[ 1,  2,  0],\n",
       "       [ 0,  0,  5],\n",
       "       [ 3, -4,  2],\n",
       "       [ 1,  6,  5],\n",
       "       [ 0,  1,  0]])"
      ]
     },
     "execution_count": 40,
     "metadata": {
      "tags": []
     },
     "output_type": "execute_result"
    }
   ],
   "source": [
    "import numpy as np\n",
    "np.set_printoptions(precision=2, suppress=True)\n",
    "\n",
    "X = np.array([[1,2,0],\n",
    "              [0,0,5],\n",
    "              [3,-4,2],\n",
    "              [1,6,5],\n",
    "              [0,1,0]])\n",
    "\n",
    "X"
   ]
  },
  {
   "cell_type": "code",
   "execution_count": 0,
   "metadata": {
    "colab": {},
    "colab_type": "code",
    "id": "WhCskMk2tjTl"
   },
   "outputs": [],
   "source": [
    "U, s, W = np.linalg.svd(X)"
   ]
  },
  {
   "cell_type": "code",
   "execution_count": 42,
   "metadata": {
    "colab": {
     "base_uri": "https://localhost:8080/",
     "height": 102
    },
    "colab_type": "code",
    "id": "gHzlwEB0tvNb",
    "outputId": "d083c1c2-fe54-4e47-9e8e-30956a375256"
   },
   "outputs": [
    {
     "data": {
      "text/plain": [
       "array([[ 0.17,  0.16, -0.53, -0.8 , -0.16],\n",
       "       [ 0.39, -0.53,  0.61, -0.43,  0.03],\n",
       "       [-0.14, -0.82, -0.52,  0.14,  0.07],\n",
       "       [ 0.89,  0.06, -0.25,  0.38, -0.06],\n",
       "       [ 0.08,  0.11, -0.08, -0.11,  0.98]])"
      ]
     },
     "execution_count": 42,
     "metadata": {
      "tags": []
     },
     "output_type": "execute_result"
    }
   ],
   "source": [
    "U"
   ]
  },
  {
   "cell_type": "code",
   "execution_count": 43,
   "metadata": {
    "colab": {
     "base_uri": "https://localhost:8080/",
     "height": 68
    },
    "colab_type": "code",
    "id": "lM-FoDoktw_2",
    "outputId": "431f3311-165e-4d2c-a0db-b2c5c1cf9715"
   },
   "outputs": [
    {
     "data": {
      "text/plain": [
       "array([[ 0.07, -0.37, -0.93],\n",
       "       [ 0.72,  0.67, -0.21],\n",
       "       [ 0.69, -0.65,  0.31]])"
      ]
     },
     "execution_count": 43,
     "metadata": {
      "tags": []
     },
     "output_type": "execute_result"
    }
   ],
   "source": [
    "V = W.T\n",
    "V"
   ]
  },
  {
   "cell_type": "code",
   "execution_count": 44,
   "metadata": {
    "colab": {
     "base_uri": "https://localhost:8080/",
     "height": 255
    },
    "colab_type": "code",
    "id": "AqeocGU3tx5-",
    "outputId": "348ba541-606e-4ca9-d1db-6a33a623d5ea"
   },
   "outputs": [
    {
     "name": "stdout",
     "output_type": "stream",
     "text": [
      "[8.82 6.14 2.53] \n",
      "\n",
      "[[0. 0. 0.]\n",
      " [0. 0. 0.]\n",
      " [0. 0. 0.]\n",
      " [0. 0. 0.]\n",
      " [0. 0. 0.]] \n",
      "\n",
      "[[8.82 0.   0.  ]\n",
      " [0.   6.14 0.  ]\n",
      " [0.   0.   2.53]\n",
      " [0.   0.   0.  ]\n",
      " [0.   0.   0.  ]] \n",
      "\n"
     ]
    }
   ],
   "source": [
    "print(s, \"\\n\")\n",
    "\n",
    "D = np.zeros_like(X, dtype=float)\n",
    "print(D, \"\\n\")\n",
    "\n",
    "D[np.diag_indices(min(X.shape))] = s\n",
    "print(D, \"\\n\")"
   ]
  },
  {
   "cell_type": "code",
   "execution_count": 45,
   "metadata": {
    "colab": {
     "base_uri": "https://localhost:8080/",
     "height": 102
    },
    "colab_type": "code",
    "id": "zXTD7clUuASC",
    "outputId": "ec050a99-cb15-46e8-ff24-316cb0b42452"
   },
   "outputs": [
    {
     "data": {
      "text/plain": [
       "array([[ 1.,  0., -0.,  0., -0.],\n",
       "       [ 0.,  1.,  0.,  0.,  0.],\n",
       "       [-0.,  0.,  1., -0., -0.],\n",
       "       [ 0.,  0., -0.,  1., -0.],\n",
       "       [-0.,  0., -0., -0.,  1.]])"
      ]
     },
     "execution_count": 45,
     "metadata": {
      "tags": []
     },
     "output_type": "execute_result"
    }
   ],
   "source": [
    "np.dot(U.T, U) #скалярное произведение"
   ]
  },
  {
   "cell_type": "code",
   "execution_count": 46,
   "metadata": {
    "colab": {
     "base_uri": "https://localhost:8080/",
     "height": 68
    },
    "colab_type": "code",
    "id": "g3SiNfrxumZr",
    "outputId": "f1fa907e-aac2-434d-db9f-e6de273a779b"
   },
   "outputs": [
    {
     "data": {
      "text/plain": [
       "array([[ 1.,  0., -0.],\n",
       "       [ 0.,  1., -0.],\n",
       "       [-0., -0.,  1.]])"
      ]
     },
     "execution_count": 46,
     "metadata": {
      "tags": []
     },
     "output_type": "execute_result"
    }
   ],
   "source": [
    "np.dot(V.T, V)"
   ]
  },
  {
   "cell_type": "code",
   "execution_count": 47,
   "metadata": {
    "colab": {
     "base_uri": "https://localhost:8080/",
     "height": 408
    },
    "colab_type": "code",
    "id": "BNK5X2JevFe_",
    "outputId": "ac43ca5e-9b61-40b1-e007-fcc6dad09893"
   },
   "outputs": [
    {
     "name": "stdout",
     "output_type": "stream",
     "text": [
      "[[ 1  2  0]\n",
      " [ 0  0  5]\n",
      " [ 3 -4  2]\n",
      " [ 1  6  5]\n",
      " [ 0  1  0]] \n",
      " -------------------------------------------------- \n",
      "\n",
      "[[ 0.17  0.16 -0.53 -0.8  -0.16]\n",
      " [ 0.39 -0.53  0.61 -0.43  0.03]\n",
      " [-0.14 -0.82 -0.52  0.14  0.07]\n",
      " [ 0.89  0.06 -0.25  0.38 -0.06]\n",
      " [ 0.08  0.11 -0.08 -0.11  0.98]] \n",
      "\n",
      "[[8.82 0.   0.  ]\n",
      " [0.   6.14 0.  ]\n",
      " [0.   0.   2.53]\n",
      " [0.   0.   0.  ]\n",
      " [0.   0.   0.  ]] \n",
      "\n",
      "[[ 0.07 -0.37 -0.93]\n",
      " [ 0.72  0.67 -0.21]\n",
      " [ 0.69 -0.65  0.31]] \n",
      "\n"
     ]
    }
   ],
   "source": [
    "print(X, \"\\n\",\"-\"*50 ,\"\\n\")\n",
    "print(U, \"\\n\")\n",
    "print(D, \"\\n\")\n",
    "print(V, \"\\n\")"
   ]
  },
  {
   "cell_type": "code",
   "execution_count": 48,
   "metadata": {
    "colab": {
     "base_uri": "https://localhost:8080/",
     "height": 204
    },
    "colab_type": "code",
    "id": "quDiNXDKvit9",
    "outputId": "d104a0e8-4301-4ce6-8660-6ad699ea5e6b"
   },
   "outputs": [
    {
     "name": "stdout",
     "output_type": "stream",
     "text": [
      "[[ 1  2  0]\n",
      " [ 0  0  5]\n",
      " [ 3 -4  2]\n",
      " [ 1  6  5]\n",
      " [ 0  1  0]] \n",
      "\n",
      "[[ 1.  2.  0.]\n",
      " [ 0. -0.  5.]\n",
      " [ 3. -4.  2.]\n",
      " [ 1.  6.  5.]\n",
      " [-0.  1. -0.]]\n"
     ]
    }
   ],
   "source": [
    "# U, D, V.T - действительно спектрально разложены\n",
    "print(X, \"\\n\")\n",
    "print(np.dot(np.dot(U,D), V.T))"
   ]
  },
  {
   "cell_type": "code",
   "execution_count": 0,
   "metadata": {
    "colab": {},
    "colab_type": "code",
    "id": "aYFnYZdwwLfW"
   },
   "outputs": [],
   "source": [
    "pass"
   ]
  }
 ],
 "metadata": {
  "colab": {
   "name": "spectral_singular_decomposition.ipynb",
   "provenance": []
  },
  "kernelspec": {
   "display_name": "Python 3",
   "language": "python",
   "name": "python3"
  },
  "language_info": {
   "codemirror_mode": {
    "name": "ipython",
    "version": 3
   },
   "file_extension": ".py",
   "mimetype": "text/x-python",
   "name": "python",
   "nbconvert_exporter": "python",
   "pygments_lexer": "ipython3",
   "version": "3.8.5"
  }
 },
 "nbformat": 4,
 "nbformat_minor": 1
}
