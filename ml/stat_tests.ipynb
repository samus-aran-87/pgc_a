{
  "nbformat": 4,
  "nbformat_minor": 0,
  "metadata": {
    "colab": {
      "name": "stat_tests.ipynb",
      "provenance": [],
      "collapsed_sections": [
        "QvUfBjWyY798"
      ],
      "toc_visible": true
    },
    "kernelspec": {
      "name": "python3",
      "display_name": "Python 3"
    }
  },
  "cells": [
    {
      "cell_type": "markdown",
      "metadata": {
        "id": "Uzj5g0qGXA6A",
        "colab_type": "text"
      },
      "source": [
        "1. Normality Tests\n",
        "  1. Shapiro-Wilk Test\n",
        "  2. D’Agostino’s K^2 Test\n",
        "  3. Anderson-Darling Test\n",
        "2. Correlation Tests\n",
        "  1. Pearson’s Correlation Coefficient\n",
        "  2. Spearman’s Rank Correlation\n",
        "  3. Kendall’s Rank Correlation\n",
        "  4. Chi-Squared Test\n",
        "3. Stationary Tests\n",
        "  1. Augmented Dickey-Fuller\n",
        "  2. Kwiatkowski-Phillips-Schmidt-Shin\n",
        "4. Parametric Statistical Hypothesis Tests\n",
        "  1. Student’s t-test\n",
        "  2. Paired Student’s t-test\n",
        "  3. Analysis of Variance Test (ANOVA)\n",
        "  4. Repeated Measures ANOVA Test\n",
        "5. Nonparametric Statistical Hypothesis Tests\n",
        "  1. Mann-Whitney U Test\n",
        "  2. Wilcoxon Signed-Rank Test\n",
        "  3. Kruskal-Wallis H Test\n",
        "  4. Friedman Test\n"
      ]
    },
    {
      "cell_type": "markdown",
      "metadata": {
        "id": "QvUfBjWyY798",
        "colab_type": "text"
      },
      "source": [
        "## 1. Normality Tests\n",
        "\n",
        "This section lists statistical tests that you can use to check if your data has a Gaussian distribution. _(В этом разделе перечислены статистические тесты, которые вы можете использовать, чтобы проверить, имеют ли ваши данные распределение Гаусса.)_"
      ]
    },
    {
      "cell_type": "markdown",
      "metadata": {
        "id": "rVYybRwqZDz8",
        "colab_type": "text"
      },
      "source": [
        "### Shapiro-Wilk Test\n",
        "Tests whether a data sample has a Gaussian distribution. _(Проверяет, имеет ли выборка данных распределение Гаусса.)_\n",
        "\n",
        "Assumptions _(Предположения)_\n",
        "- Observations in each sample are independent and identically distributed (iid). _(Наблюдения в каждой выборке независимы и одинаково распределены (iid).)_\n",
        "\n",
        "Interpretation _(Интерпретация)_\n",
        "- H0: the sample has a Gaussian distribution. _(образец имеет гауссово распределение.)_\n",
        "- H1: the sample does not have a Gaussian distribution. _(образец не имеет гауссовского распределения.)_"
      ]
    },
    {
      "cell_type": "code",
      "metadata": {
        "id": "DK64u5NZZA0B",
        "colab_type": "code",
        "colab": {
          "base_uri": "https://localhost:8080/",
          "height": 52
        },
        "outputId": "c1b814c2-6af8-4ff9-872c-623a68beaf5f"
      },
      "source": [
        "# Example of the Shapiro-Wilk Normality Test\n",
        "from scipy.stats import shapiro\n",
        "\n",
        "data = [0.873, 2.817, 0.121, -0.945, -0.055, -1.436, 0.360, -1.478, -1.637, -1.869]\n",
        "stat, p = shapiro(data)\n",
        "print('stat=%.3f, p=%.3f' % (stat, p))\n",
        "\n",
        "if p > 0.05:\n",
        "\tprint('Probably Gaussian') # Вероятно гауссов\n",
        "else:\n",
        "\tprint('Probably not Gaussian') # Вероятно, не гауссов"
      ],
      "execution_count": 1,
      "outputs": [
        {
          "output_type": "stream",
          "text": [
            "stat=0.895, p=0.193\n",
            "Probably Gaussian\n"
          ],
          "name": "stdout"
        }
      ]
    },
    {
      "cell_type": "markdown",
      "metadata": {
        "id": "U-8soyl0agcb",
        "colab_type": "text"
      },
      "source": [
        "More Information\n",
        "\n",
        "- [A Gentle Introduction to Normality Tests in Python](https://machinelearningmastery.com/a-gentle-introduction-to-normality-tests-in-python/)\n",
        "- [scipy.stats.shapiro](https://docs.scipy.org/doc/scipy/reference/generated/scipy.stats.shapiro.html)\n",
        "- [Shapiro-Wilk test on Wikipedia](https://en.wikipedia.org/wiki/Shapiro%E2%80%93Wilk_test)"
      ]
    },
    {
      "cell_type": "markdown",
      "metadata": {
        "id": "vGC0VPGSa19M",
        "colab_type": "text"
      },
      "source": [
        "### D’Agostino’s K^2 Test\n",
        "Tests whether a data sample has a Gaussian distribution. _(Проверяет, имеет ли выборка данных распределение Гаусса.)_\n",
        "\n",
        "Assumptions _(Предположения)_\n",
        "- Observations in each sample are independent and identically distributed (iid). _(Наблюдения в каждой выборке независимы и одинаково распределены (iid).)_\n",
        "\n",
        "Interpretation _(Интерпретация)_\n",
        "- H0: the sample has a Gaussian distribution. _(образец имеет гауссово распределение.)_\n",
        "- H1: the sample does not have a Gaussian distribution. _(образец не имеет гауссовского распределения.)_"
      ]
    },
    {
      "cell_type": "code",
      "metadata": {
        "id": "ojCkz7PIZUKM",
        "colab_type": "code",
        "colab": {
          "base_uri": "https://localhost:8080/",
          "height": 106
        },
        "outputId": "12ce83bc-ba4f-4fc5-8e9b-8f6fb42421d2"
      },
      "source": [
        "# Example of the D'Agostino's K^2 Normality Test\n",
        "from scipy.stats import normaltest\n",
        "\n",
        "data = [0.873, 2.817, 0.121, -0.945, -0.055, -1.436, 0.360, -1.478, -1.637, -1.869]\n",
        "stat, p = normaltest(data)\n",
        "print('stat=%.3f, p=%.3f' % (stat, p))\n",
        "\n",
        "if p > 0.05:\n",
        "\tprint('Probably Gaussian')\n",
        "else:\n",
        "\tprint('Probably not Gaussian')"
      ],
      "execution_count": 4,
      "outputs": [
        {
          "output_type": "stream",
          "text": [
            "stat=3.392, p=0.183\n",
            "Probably Gaussian\n"
          ],
          "name": "stdout"
        },
        {
          "output_type": "stream",
          "text": [
            "/usr/local/lib/python3.6/dist-packages/scipy/stats/stats.py:1535: UserWarning: kurtosistest only valid for n>=20 ... continuing anyway, n=10\n",
            "  \"anyway, n=%i\" % int(n))\n"
          ],
          "name": "stderr"
        }
      ]
    },
    {
      "cell_type": "markdown",
      "metadata": {
        "id": "m9OW1KKnb25b",
        "colab_type": "text"
      },
      "source": [
        "More Information\n",
        "- [A Gentle Introduction to Normality Tests in Python](https://machinelearningmastery.com/a-gentle-introduction-to-normality-tests-in-python/)\n",
        "- [scipy.stats.normaltest](https://docs.scipy.org/doc/scipy/reference/generated/scipy.stats.normaltest.html)\n",
        "- [D’Agostino’s K-squared test on Wikipedia](https://en.wikipedia.org/wiki/D%27Agostino%27s_K-squared_test)"
      ]
    },
    {
      "cell_type": "markdown",
      "metadata": {
        "id": "pXZLBmbvcLrb",
        "colab_type": "text"
      },
      "source": [
        "### Anderson-Darling Test\n",
        "Tests whether a data sample has a Gaussian distribution. _(Проверяет, имеет ли выборка данных распределение Гаусса.)_\n",
        "\n",
        "Assumptions _(Предположения)_\n",
        "- Observations in each sample are independent and identically distributed (iid). _(Наблюдения в каждой выборке независимы и одинаково распределены (iid).)_\n",
        "\n",
        "Interpretation _(Интерпретация)_\n",
        "- H0: the sample has a Gaussian distribution. _(образец имеет гауссово распределение.)_\n",
        "- H1: the sample does not have a Gaussian distribution. _(образец не имеет гауссовского распределения.)_"
      ]
    },
    {
      "cell_type": "code",
      "metadata": {
        "id": "oLYPMtUzbzp1",
        "colab_type": "code",
        "colab": {
          "base_uri": "https://localhost:8080/",
          "height": 121
        },
        "outputId": "f5829b10-b4d7-4dc1-a610-21badf013a71"
      },
      "source": [
        "# Example of the Anderson-Darling Normality Test\n",
        "from scipy.stats import anderson\n",
        "\n",
        "data = [0.873, 2.817, 0.121, -0.945, -0.055, -1.436, 0.360, -1.478, -1.637, -1.869]\n",
        "result = anderson(data)\n",
        "print('stat=%.3f' % (result.statistic))\n",
        "\n",
        "for i in range(len(result.critical_values)):\n",
        "\tsl, cv = result.significance_level[i], result.critical_values[i]\n",
        "\tif result.statistic < cv:\n",
        "\t\tprint('Probably Gaussian at the %.1f%% level' % (sl)) # Вероятно, гауссовский на уровне n%\n",
        "\telse:\n",
        "\t\tprint('Probably not Gaussian at the %.1f%% level' % (sl)) # Вероятно, не гауссовский на уровне n%"
      ],
      "execution_count": 5,
      "outputs": [
        {
          "output_type": "stream",
          "text": [
            "stat=0.424\n",
            "Probably Gaussian at the 15.0% level\n",
            "Probably Gaussian at the 10.0% level\n",
            "Probably Gaussian at the 5.0% level\n",
            "Probably Gaussian at the 2.5% level\n",
            "Probably Gaussian at the 1.0% level\n"
          ],
          "name": "stdout"
        }
      ]
    },
    {
      "cell_type": "markdown",
      "metadata": {
        "id": "v3jm0AQUc1fB",
        "colab_type": "text"
      },
      "source": [
        "More Information\n",
        "- [A Gentle Introduction to Normality Tests in Python](https://machinelearningmastery.com/a-gentle-introduction-to-normality-tests-in-python/)\n",
        "- [scipy.stats.anderson](https://docs.scipy.org/doc/scipy/reference/generated/scipy.stats.anderson.html)\n",
        "- [Anderson-Darling test on Wikipedia](https://en.wikipedia.org/wiki/Anderson%E2%80%93Darling_test)"
      ]
    },
    {
      "cell_type": "markdown",
      "metadata": {
        "id": "wObeTdSUerpy",
        "colab_type": "text"
      },
      "source": [
        "## 2. Correlation Tests\n",
        "This section lists statistical tests that you can use to check if two samples are related. _(В этом разделе перечислены статистические тесты, которые вы можете использовать, чтобы проверить, связаны ли две выборки.)_"
      ]
    },
    {
      "cell_type": "markdown",
      "metadata": {
        "id": "WAqATNsre1qD",
        "colab_type": "text"
      },
      "source": [
        "### Pearson’s Correlation Coefficient\n",
        "Tests whether two samples have a linear relationship. _(Проверяет, имеют ли два образца линейную зависимость.)_\n",
        "\n",
        "Assumptions _(Предположения)_\n",
        "- Observations in each sample are independent and identically distributed (iid). _(Наблюдения в каждой выборке независимы и одинаково распределены (iid).)_\n",
        "- Observations in each sample are normally distributed. _(Наблюдения в каждом образце обычно распределяются.)_\n",
        "- Observations in each sample have the same variance. _(Наблюдения в каждом образце имеют одинаковую дисперсию.)_\n",
        "\n",
        "Interpretation\n",
        "- H0: the two samples are independent. _(Два образца независимы.)_\n",
        "- H1: there is a dependency between the samples. _(Существует зависимость между образцами.)_"
      ]
    },
    {
      "cell_type": "code",
      "metadata": {
        "id": "spVo24EJcbVM",
        "colab_type": "code",
        "colab": {
          "base_uri": "https://localhost:8080/",
          "height": 52
        },
        "outputId": "671d2ff6-6b52-419d-9bd9-88007c5246e9"
      },
      "source": [
        "# Example of the Pearson's Correlation test\n",
        "from scipy.stats import pearsonr\n",
        "\n",
        "data1 = [0.873, 2.817, 0.121, -0.945, -0.055, -1.436, 0.360, -1.478, -1.637, -1.869]\n",
        "data2 = [0.353, 3.517, 0.125, -7.545, -0.555, -1.536, 3.350, -1.578, -3.537, -1.579]\n",
        "stat, p = pearsonr(data1, data2)\n",
        "print('stat=%.3f, p=%.3f' % (stat, p))\n",
        "\n",
        "if p > 0.05:\n",
        "\tprint('Probably independent') # Возможно независимый\n",
        "else:\n",
        "\tprint('Probably dependent') # Возможно зависимый"
      ],
      "execution_count": 6,
      "outputs": [
        {
          "output_type": "stream",
          "text": [
            "stat=0.688, p=0.028\n",
            "Probably dependent\n"
          ],
          "name": "stdout"
        }
      ]
    },
    {
      "cell_type": "markdown",
      "metadata": {
        "id": "4fa3wjl6fORd",
        "colab_type": "text"
      },
      "source": [
        "More Information\n",
        "- [How to Calculate Correlation Between Variables in Python](https://machinelearningmastery.com/how-to-use-correlation-to-understand-the-relationship-between-variables/)\n",
        "- [scipy.stats.pearsonr](https://docs.scipy.org/doc/scipy/reference/generated/scipy.stats.pearsonr.html)\n",
        "- [Pearson’s correlation coefficient on Wikipedia](https://en.wikipedia.org/wiki/Pearson_correlation_coefficient)"
      ]
    },
    {
      "cell_type": "markdown",
      "metadata": {
        "id": "CoFqUhX9gWEe",
        "colab_type": "text"
      },
      "source": [
        "### Spearman’s Rank Correlation\n",
        "Tests whether two samples have a monotonic relationship. _(Проверяет, имеют ли два образца монотонное отношение.)_\n",
        "\n",
        "Assumptions\n",
        "- Observations in each sample are independent and identically distributed (iid). _(Наблюдения в каждой выборке независимы и одинаково распределены (iid).)_\n",
        "- Observations in each sample can be ranked. _(Наблюдения в каждом образце могут быть ранжированы.)_\n",
        "\n",
        "Interpretation\n",
        "- H0: the two samples are independent. _(два образца независимы.)_\n",
        "- H1: there is a dependency between the samples. _(Существует зависимость между образцами.)_"
      ]
    },
    {
      "cell_type": "code",
      "metadata": {
        "id": "u0cCi31dfGVA",
        "colab_type": "code",
        "colab": {
          "base_uri": "https://localhost:8080/",
          "height": 52
        },
        "outputId": "b76fdae3-b4ea-4bc8-892e-1938ac73db9a"
      },
      "source": [
        "# Example of the Spearman's Rank Correlation Test\n",
        "from scipy.stats import spearmanr\n",
        "\n",
        "data1 = [0.873, 2.817, 0.121, -0.945, -0.055, -1.436, 0.360, -1.478, -1.637, -1.869]\n",
        "data2 = [0.353, 3.517, 0.125, -7.545, -0.555, -1.536, 3.350, -1.578, -3.537, -1.579]\n",
        "stat, p = spearmanr(data1, data2)\n",
        "print('stat=%.3f, p=%.3f' % (stat, p))\n",
        "\n",
        "if p > 0.05:\n",
        "\tprint('Probably independent') # Возможно независимый\n",
        "else:\n",
        "\tprint('Probably dependent') # Возможно зависимый"
      ],
      "execution_count": 7,
      "outputs": [
        {
          "output_type": "stream",
          "text": [
            "stat=0.855, p=0.002\n",
            "Probably dependent\n"
          ],
          "name": "stdout"
        }
      ]
    },
    {
      "cell_type": "markdown",
      "metadata": {
        "id": "rduLb3Aog_8O",
        "colab_type": "text"
      },
      "source": [
        "More Information\n",
        "- [How to Calculate Nonparametric Rank Correlation in Python](https://machinelearningmastery.com/how-to-calculate-nonparametric-rank-correlation-in-python/)\n",
        "- [scipy.stats.spearmanr](https://docs.scipy.org/doc/scipy/reference/generated/scipy.stats.spearmanr.html)\n",
        "- [Spearman’s rank correlation coefficient on Wikipedia](https://en.wikipedia.org/wiki/Spearman%27s_rank_correlation_coefficient)"
      ]
    },
    {
      "cell_type": "markdown",
      "metadata": {
        "id": "y4XZjw3mhMaU",
        "colab_type": "text"
      },
      "source": [
        "### Kendall’s Rank Correlation\n",
        "Tests whether two samples have a monotonic relationship. _(Проверяет, имеют ли два образца монотонное отношение.)_\n",
        "\n",
        "Assumptions\n",
        "- Observations in each sample are independent and identically distributed (iid). _(Наблюдения в каждой выборке независимы и одинаково распределены (iid).)_\n",
        "- Observations in each sample can be ranked. _(Наблюдения в каждом образце могут быть ранжированы.)_\n",
        "\n",
        "Interpretation\n",
        "- H0: the two samples are independent. _(два образца независимы.)_\n",
        "- H1: there is a dependency between the samples. _(Существует зависимость между образцами.)_"
      ]
    },
    {
      "cell_type": "code",
      "metadata": {
        "id": "JIV5dxCehe_r",
        "colab_type": "code",
        "colab": {
          "base_uri": "https://localhost:8080/",
          "height": 52
        },
        "outputId": "fdead97f-bd6c-4d1b-8d49-b2c7cf544dab"
      },
      "source": [
        "# Example of the Kendall's Rank Correlation Test\n",
        "from scipy.stats import kendalltau\n",
        "\n",
        "data1 = [0.873, 2.817, 0.121, -0.945, -0.055, -1.436, 0.360, -1.478, -1.637, -1.869]\n",
        "data2 = [0.353, 3.517, 0.125, -7.545, -0.555, -1.536, 3.350, -1.578, -3.537, -1.579]\n",
        "stat, p = kendalltau(data1, data2)\n",
        "print('stat=%.3f, p=%.3f' % (stat, p))\n",
        "\n",
        "if p > 0.05:\n",
        "\tprint('Probably independent') # Возможно независимый\n",
        "else:\n",
        "\tprint('Probably dependent') # Возможно зависимый"
      ],
      "execution_count": 8,
      "outputs": [
        {
          "output_type": "stream",
          "text": [
            "stat=0.733, p=0.002\n",
            "Probably dependent\n"
          ],
          "name": "stdout"
        }
      ]
    },
    {
      "cell_type": "markdown",
      "metadata": {
        "id": "RpuIhAHYiM2F",
        "colab_type": "text"
      },
      "source": [
        "More Information\n",
        "- [How to Calculate Nonparametric Rank Correlation in Python](https://machinelearningmastery.com/how-to-calculate-nonparametric-rank-correlation-in-python/)\n",
        "- [scipy.stats.kendalltau](https://docs.scipy.org/doc/scipy/reference/generated/scipy.stats.kendalltau.html)\n",
        "- [Kendall rank correlation coefficient on Wikipedia](https://en.wikipedia.org/wiki/Kendall_rank_correlation_coefficient)"
      ]
    },
    {
      "cell_type": "markdown",
      "metadata": {
        "id": "AyB42cfliZDD",
        "colab_type": "text"
      },
      "source": [
        "### Chi-Squared Test\n",
        "Tests whether two categorical variables are related or independent. _(Проверяет, являются ли две категориальные переменные связанными или независимыми.)_\n",
        "\n",
        "Assumptions\n",
        "- Observations used in the calculation of the contingency table are independent. _(Наблюдения, использованные при расчете таблицы сопряженности, являются независимыми.)_\n",
        "- 25 or more examples in each cell of the contingency table. _(25 или более примеров в каждой ячейке таблицы сопряженности.)_\n",
        "\n",
        "Interpretation\n",
        "- H0: the two samples are independent. _(два образца независимы.)_\n",
        "- H1: there is a dependency between the samples. _(существует зависимость между образцами.)_"
      ]
    },
    {
      "cell_type": "code",
      "metadata": {
        "id": "uo5PB86Zh2P-",
        "colab_type": "code",
        "colab": {
          "base_uri": "https://localhost:8080/",
          "height": 52
        },
        "outputId": "00e0ca1c-ad98-49aa-f5f8-485dda1f1841"
      },
      "source": [
        "# Example of the Chi-Squared Test\n",
        "from scipy.stats import chi2_contingency\n",
        "\n",
        "table = [[10, 20, 30],[6,  9,  17]]\n",
        "stat, p, dof, expected = chi2_contingency(table)\n",
        "print('stat=%.3f, p=%.3f' % (stat, p))\n",
        "\n",
        "if p > 0.05:\n",
        "\tprint('Probably independent') # Возможно независимый\n",
        "else:\n",
        "\tprint('Probably dependent') # Возможно зависимый"
      ],
      "execution_count": 9,
      "outputs": [
        {
          "output_type": "stream",
          "text": [
            "stat=0.272, p=0.873\n",
            "Probably independent\n"
          ],
          "name": "stdout"
        }
      ]
    },
    {
      "cell_type": "markdown",
      "metadata": {
        "id": "nBgNpgR3i7oi",
        "colab_type": "text"
      },
      "source": [
        "More Information\n",
        "- [A Gentle Introduction to the Chi-Squared Test for Machine Learning](https://machinelearningmastery.com/chi-squared-test-for-machine-learning/)\n",
        "- [scipy.stats.chi2_contingency](https://docs.scipy.org/doc/scipy/reference/generated/scipy.stats.chi2_contingency.html)\n",
        "- [Chi-Squared test on Wikipedia](https://en.wikipedia.org/wiki/Chi-squared_test)"
      ]
    },
    {
      "cell_type": "markdown",
      "metadata": {
        "id": "zpmc6VDgjNy2",
        "colab_type": "text"
      },
      "source": [
        "## 3. Stationary Tests\n",
        "This section lists statistical tests that you can use to check if a time series is stationary or not. _(В этом разделе перечислены статистические тесты, которые вы можете использовать, чтобы проверить, является ли временной ряд стационарным или нет.)_"
      ]
    },
    {
      "cell_type": "markdown",
      "metadata": {
        "id": "1_WRotG8jNse",
        "colab_type": "text"
      },
      "source": [
        "### Augmented Dickey-Fuller Unit Root Test\n",
        "Tests whether a time series has a unit root, e.g. has a trend or more generally is autoregressive. _(Проверяет, есть ли у временного ряда единичный корень, например, имеет тенденцию или, в более общем смысле, является авторегрессией.)_\n",
        "\n",
        "Assumptions\n",
        "- Observations in are temporally ordered. _(Наблюдения во временном порядке.)_\n",
        "\n",
        "Interpretation\n",
        "- H0: a unit root is present (series is non-stationary). _(присутствует единичный корень (серия нестационарна).)_\n",
        "- H1: a unit root is not present (series is stationary). _(единичного корня нет (серия стационарная).)_"
      ]
    },
    {
      "cell_type": "code",
      "metadata": {
        "id": "gli_HTBVi1zR",
        "colab_type": "code",
        "colab": {
          "base_uri": "https://localhost:8080/",
          "height": 52
        },
        "outputId": "94dc376f-92ad-4f00-ad71-fa8083c5db0c"
      },
      "source": [
        "# Example of the Augmented Dickey-Fuller unit root test\n",
        "from statsmodels.tsa.stattools import adfuller\n",
        "\n",
        "data = [0, 1, 2, 3, 4, 5, 6, 7, 8, 9]\n",
        "stat, p, lags, obs, crit, t = adfuller(data)\n",
        "print('stat=%.3f, p=%.3f' % (stat, p))\n",
        "\n",
        "if p > 0.05:\n",
        "\tprint('Probably not Stationary') # Вероятно, не стационарный\n",
        "else:\n",
        "\tprint('Probably Stationary') # Вероятно, стационарный"
      ],
      "execution_count": 11,
      "outputs": [
        {
          "output_type": "stream",
          "text": [
            "stat=0.517, p=0.985\n",
            "Probably not Stationary\n"
          ],
          "name": "stdout"
        }
      ]
    },
    {
      "cell_type": "markdown",
      "metadata": {
        "id": "kh28GM2ij2sa",
        "colab_type": "text"
      },
      "source": [
        "More Information\n",
        "- [How to Check if Time Series Data is Stationary with Python](https://machinelearningmastery.com/time-series-data-stationary-python/)\n",
        "- [statsmodels.tsa.stattools.adfuller API.](https://www.statsmodels.org/dev/generated/statsmodels.tsa.stattools.adfuller.html)\n",
        "- [Augmented Dickey–Fuller test, Wikipedia.](https://en.wikipedia.org/wiki/Augmented_Dickey%E2%80%93Fuller_test)"
      ]
    },
    {
      "cell_type": "markdown",
      "metadata": {
        "id": "_Ci1wtUqkUbg",
        "colab_type": "text"
      },
      "source": [
        "### Kwiatkowski-Phillips-Schmidt-Shin\n",
        "Tests whether a time series is trend stationary or not. _(Проверяет, является ли временной ряд стационарным по тренду или нет.)_\n",
        "\n",
        "Assumptions\n",
        "- Observations in are temporally ordered. _(Наблюдения во временном порядке.\n",
        "интерпретация)_\n",
        "\n",
        "Interpretation\n",
        "- H0: the time series is not trend-stationary. _(временной ряд не является трендовым.)_\n",
        "- H1: the time series is trend-stationary. _(временной ряд является стационарным по тренду.)_"
      ]
    },
    {
      "cell_type": "code",
      "metadata": {
        "id": "Haa-jNzYkL7Q",
        "colab_type": "code",
        "colab": {
          "base_uri": "https://localhost:8080/",
          "height": 106
        },
        "outputId": "f509fd14-2553-49e7-9f9f-596ab298dab9"
      },
      "source": [
        "# Example of the Kwiatkowski-Phillips-Schmidt-Shin test\n",
        "from statsmodels.tsa.stattools import kpss\n",
        "\n",
        "data = [0, 1, 2, 3, 4, 5, 6, 7, 8, 9]\n",
        "stat, p, lags, crit = kpss(data)\n",
        "print('stat=%.3f, p=%.3f' % (stat, p))\n",
        "\n",
        "if p > 0.05:\n",
        "\tprint('Probably not Stationary') # Вероятно, не стационарный\n",
        "else:\n",
        "\tprint('Probably Stationary') # Вероятно, стационарный"
      ],
      "execution_count": 13,
      "outputs": [
        {
          "output_type": "stream",
          "text": [
            "stat=0.410, p=0.073\n",
            "Probably not Stationary\n"
          ],
          "name": "stdout"
        },
        {
          "output_type": "stream",
          "text": [
            "/usr/local/lib/python3.6/dist-packages/statsmodels/tsa/stattools.py:1685: FutureWarning: The behavior of using lags=None will change in the next release. Currently lags=None is the same as lags='legacy', and so a sample-size lag length is used. After the next release, the default will change to be the same as lags='auto' which uses an automatic lag length selection method. To silence this warning, either use 'auto' or 'legacy'\n",
            "  warn(msg, FutureWarning)\n"
          ],
          "name": "stderr"
        }
      ]
    },
    {
      "cell_type": "markdown",
      "metadata": {
        "id": "jpXcv8mTkU2T",
        "colab_type": "text"
      },
      "source": [
        "More Information\n",
        "- [statsmodels.tsa.stattools.kpss API.](https://www.statsmodels.org/stable/generated/statsmodels.tsa.stattools.kpss.html#statsmodels.tsa.stattools.kpss)\n",
        "- [KPSS test, Wikipedia.](https://en.wikipedia.org/wiki/KPSS_test)"
      ]
    },
    {
      "cell_type": "markdown",
      "metadata": {
        "id": "y9WWKnwLlTPR",
        "colab_type": "text"
      },
      "source": [
        "## 4. Parametric Statistical Hypothesis Tests\n",
        "This section lists statistical tests that you can use to compare data samples."
      ]
    },
    {
      "cell_type": "markdown",
      "metadata": {
        "id": "1DPEkuqElvaq",
        "colab_type": "text"
      },
      "source": [
        "### Student’s t-test\n",
        "Tests whether the means of two independent samples are significantly different. _(Проверяет, значительно ли отличаются два независимых образца.)_\n",
        "\n",
        "Assumptions\n",
        "- Observations in each sample are independent and identically distributed (iid). _(Наблюдения в каждой выборке независимы и одинаково распределены (iid).)_\n",
        "- Observations in each sample are normally distributed. _(Наблюдения в каждом образце обычно распределяются.)_\n",
        "- Observations in each sample have the same variance. _(Наблюдения в каждом образце имеют одинаковую дисперсию.)_\n",
        "\n",
        "Interpretation\n",
        "- H0: the means of the samples are equal. _(среднии образцов равны.)_\n",
        "- H1: the means of the samples are unequal. _(среднии образцов неравны.)_"
      ]
    },
    {
      "cell_type": "code",
      "metadata": {
        "id": "KYtAJz3zkVrm",
        "colab_type": "code",
        "colab": {
          "base_uri": "https://localhost:8080/",
          "height": 52
        },
        "outputId": "41ec18e2-0bd6-4c79-ea90-34d694fdc5a4"
      },
      "source": [
        "# Example of the Student's t-test\n",
        "from scipy.stats import ttest_ind\n",
        "\n",
        "data1 = [0.873, 2.817, 0.121, -0.945, -0.055, -1.436, 0.360, -1.478, -1.637, -1.869]\n",
        "data2 = [1.142, -0.432, -0.938, -0.729, -0.846, -0.157, 0.500, 1.183, -1.075, -0.169]\n",
        "stat, p = ttest_ind(data1, data2)\n",
        "print('stat=%.3f, p=%.3f' % (stat, p))\n",
        "\n",
        "if p > 0.05:\n",
        "\tprint('Probably the same distribution') # Вероятно, такое же распределение\n",
        "else:\n",
        "\tprint('Probably different distributions') # Возможно разные распределения"
      ],
      "execution_count": 14,
      "outputs": [
        {
          "output_type": "stream",
          "text": [
            "stat=-0.326, p=0.748\n",
            "Probably the same distribution\n"
          ],
          "name": "stdout"
        }
      ]
    },
    {
      "cell_type": "markdown",
      "metadata": {
        "id": "zLf9ABbQlTm-",
        "colab_type": "text"
      },
      "source": [
        "More Information\n",
        "- [How to Calculate Parametric Statistical Hypothesis Tests in Python](https://machinelearningmastery.com/parametric-statistical-significance-tests-in-python/)\n",
        "- [scipy.stats.ttest_ind](https://docs.scipy.org/doc/scipy/reference/generated/scipy.stats.ttest_ind.html)\n",
        "- [Student’s t-test on Wikipedia](https://en.wikipedia.org/wiki/Student%27s_t-test)"
      ]
    },
    {
      "cell_type": "markdown",
      "metadata": {
        "id": "_DzVHOn_mqyf",
        "colab_type": "text"
      },
      "source": [
        "### Paired Student’s t-test\n",
        "Tests whether the means of two paired samples are significantly different. _(Проверяет, значительно ли отличаются два парных образца.)_\n",
        "\n",
        "Assumptions\n",
        "- Observations in each sample are independent and identically distributed (iid). _(Наблюдения в каждой выборке независимы и одинаково распределены (iid).)_\n",
        "- Observations in each sample are normally distributed. _(Наблюдения в каждом образце обычно распределяются.)_\n",
        "- Observations in each sample have the same variance. _(Наблюдения в каждом образце имеют одинаковую дисперсию.)_\n",
        "- Observations across each sample are paired. _(Наблюдения по каждому образцу являются парными.)_\n",
        "\n",
        "Interpretation\n",
        "- H0: the means of the samples are equal. _(среднии образцов равны.)_\n",
        "- H1: the means of the samples are unequal. _(среднии образцов неравны.)_"
      ]
    },
    {
      "cell_type": "code",
      "metadata": {
        "id": "UQj7ZDWvlUJc",
        "colab_type": "code",
        "colab": {
          "base_uri": "https://localhost:8080/",
          "height": 52
        },
        "outputId": "ab07496f-b11c-4a52-a595-25342ce75807"
      },
      "source": [
        "# Example of the Paired Student's t-test\n",
        "from scipy.stats import ttest_rel\n",
        "\n",
        "data1 = [0.873, 2.817, 0.121, -0.945, -0.055, -1.436, 0.360, -1.478, -1.637, -1.869]\n",
        "data2 = [1.142, -0.432, -0.938, -0.729, -0.846, -0.157, 0.500, 1.183, -1.075, -0.169]\n",
        "stat, p = ttest_rel(data1, data2)\n",
        "print('stat=%.3f, p=%.3f' % (stat, p))\n",
        "\n",
        "if p > 0.05:\n",
        "\tprint('Probably the same distribution') # Вероятно, такое же распределение\n",
        "else:\n",
        "\tprint('Probably different distributions') # Возможно разные распределения"
      ],
      "execution_count": 15,
      "outputs": [
        {
          "output_type": "stream",
          "text": [
            "stat=-0.334, p=0.746\n",
            "Probably the same distribution\n"
          ],
          "name": "stdout"
        }
      ]
    },
    {
      "cell_type": "markdown",
      "metadata": {
        "id": "XFHtiJxVmrmX",
        "colab_type": "text"
      },
      "source": [
        "More Information\n",
        "- [How to Calculate Parametric Statistical Hypothesis Tests in Python](https://machinelearningmastery.com/parametric-statistical-significance-tests-in-python/)\n",
        "- [scipy.stats.ttest_rel](https://docs.scipy.org/doc/scipy/reference/generated/scipy.stats.ttest_rel.html)\n",
        "- [Student’s t-test on Wikipedia](https://en.wikipedia.org/wiki/Student%27s_t-test)"
      ]
    },
    {
      "cell_type": "markdown",
      "metadata": {
        "id": "kvyPEkCCoL7L",
        "colab_type": "text"
      },
      "source": [
        "### Analysis of Variance Test (ANOVA)\n",
        "Tests whether the means of two or more independent samples are significantly different. _(Проверяет, значительно ли отличаются два или более независимых образца.)_\n",
        "\n",
        "Assumptions\n",
        "- Observations in each sample are independent and identically distributed (iid). _(Наблюдения в каждой выборке независимы и одинаково распределены (iid).)_\n",
        "- Observations in each sample are normally distributed. _(Наблюдения в каждом образце обычно распределяются.)_\n",
        "- Observations in each sample have the same variance. _(Наблюдения в каждом образце имеют одинаковую дисперсию.)_\n",
        "\n",
        "Interpretation\n",
        "- H0: the means of the samples are equal. _(средства образцов равны.)_\n",
        "- H1: one or more of the means of the samples are unequal. _(одно или несколько средств отсчетов неравны.)_"
      ]
    },
    {
      "cell_type": "code",
      "metadata": {
        "id": "jYr7vzahoJhl",
        "colab_type": "code",
        "colab": {
          "base_uri": "https://localhost:8080/",
          "height": 52
        },
        "outputId": "59ab1c5a-35fe-40c7-db51-d6a7dfb67b22"
      },
      "source": [
        "# Example of the Analysis of Variance Test\n",
        "from scipy.stats import f_oneway\n",
        "\n",
        "data1 = [0.873, 2.817, 0.121, -0.945, -0.055, -1.436, 0.360, -1.478, -1.637, -1.869]\n",
        "data2 = [1.142, -0.432, -0.938, -0.729, -0.846, -0.157, 0.500, 1.183, -1.075, -0.169]\n",
        "data3 = [-0.208, 0.696, 0.928, -1.148, -0.213, 0.229, 0.137, 0.269, -0.870, -1.204]\n",
        "stat, p = f_oneway(data1, data2, data3)\n",
        "print('stat=%.3f, p=%.3f' % (stat, p))\n",
        "\n",
        "if p > 0.05:\n",
        "\tprint('Probably the same distribution') # Вероятно, такое же распределение\n",
        "else:\n",
        "\tprint('Probably different distributions') # Возможно разные распределения"
      ],
      "execution_count": 16,
      "outputs": [
        {
          "output_type": "stream",
          "text": [
            "stat=0.096, p=0.908\n",
            "Probably the same distribution\n"
          ],
          "name": "stdout"
        }
      ]
    },
    {
      "cell_type": "markdown",
      "metadata": {
        "id": "1nkjZyhXoMQs",
        "colab_type": "text"
      },
      "source": [
        "More Information\n",
        "- [How to Calculate Parametric Statistical Hypothesis Tests in Python](https://machinelearningmastery.com/parametric-statistical-significance-tests-in-python/)\n",
        "- [scipy.stats.f_oneway](https://docs.scipy.org/doc/scipy/reference/generated/scipy.stats.f_oneway.html)\n",
        "- [Analysis of variance on Wikipedia](https://en.wikipedia.org/wiki/Analysis_of_variance)"
      ]
    },
    {
      "cell_type": "markdown",
      "metadata": {
        "id": "ZLSJHpVapBWO",
        "colab_type": "text"
      },
      "source": [
        "### Repeated Measures ANOVA Test\n",
        "Tests whether the means of two or more paired samples are significantly different. _(Проверяет, значительно ли отличаются два или более парных образца.)_\n",
        "\n",
        "Assumptions\n",
        "- Observations in each sample are independent and identically distributed (iid). _(Наблюдения в каждой выборке независимы и распределяются одинаково (iid).)_\n",
        "- Observations in each sample are normally distributed. _(Наблюдения в каждой выборке обычно распределяются.)_\n",
        "- Observations in each sample have the same variance. _(Наблюдения в каждом образце имеют одинаковую дисперсию.)_\n",
        "- Observations across each sample are paired. _(Наблюдения по каждому образцу сопряжены.)_\n",
        "\n",
        "Interpretation\n",
        "- H0: the means of the samples are equal. _(средние значения образцов равны.)_\n",
        "- H1: one or more of the means of the samples are unequal. _(одно или несколько средств отсчетов неравны.)_"
      ]
    },
    {
      "cell_type": "code",
      "metadata": {
        "id": "gh_vP9a7pAwm",
        "colab_type": "code",
        "colab": {}
      },
      "source": [
        "# Currently not supported in Python."
      ],
      "execution_count": null,
      "outputs": []
    },
    {
      "cell_type": "markdown",
      "metadata": {
        "id": "i3CEo_RupBma",
        "colab_type": "text"
      },
      "source": [
        "More Information\n",
        "- [How to Calculate Parametric Statistical Hypothesis Tests in Python](https://machinelearningmastery.com/parametric-statistical-significance-tests-in-python/)\n",
        "- [Analysis of variance on Wikipedia](https://en.wikipedia.org/wiki/Analysis_of_variance)"
      ]
    },
    {
      "cell_type": "markdown",
      "metadata": {
        "id": "ghPRY7gzqONk",
        "colab_type": "text"
      },
      "source": [
        "## 5. Nonparametric Statistical Hypothesis Tests"
      ]
    },
    {
      "cell_type": "markdown",
      "metadata": {
        "id": "hkW7uS4aqUCk",
        "colab_type": "text"
      },
      "source": [
        "### Mann-Whitney U Test\n",
        "Tests whether the distributions of two independent samples are equal or not. _(Проверяет, равны ли распределения двух независимых выборок или нет.)_\n",
        "\n",
        "Assumptions\n",
        "- Observations in each sample are independent and identically distributed (iid). _(Наблюдения в каждой выборке независимы и распределяются одинаково (iid).)_\n",
        "- Observations in each sample can be ranked. _(Наблюдения в каждом образце могут быть ранжированы.)_\n",
        "\n",
        "Interpretation\n",
        "- H0: the distributions of both samples are equal. _(распределения обоих образцов одинаковы.)_\n",
        "- H1: the distributions of both samples are not equal. _(распределения обоих образцов не равны.)_"
      ]
    },
    {
      "cell_type": "code",
      "metadata": {
        "id": "FM1nv8B5p39r",
        "colab_type": "code",
        "colab": {
          "base_uri": "https://localhost:8080/",
          "height": 52
        },
        "outputId": "656dfa85-6b9a-4cce-9430-282c44a741e2"
      },
      "source": [
        "# Example of the Mann-Whitney U Test\n",
        "from scipy.stats import mannwhitneyu\n",
        "\n",
        "data1 = [0.873, 2.817, 0.121, -0.945, -0.055, -1.436, 0.360, -1.478, -1.637, -1.869]\n",
        "data2 = [1.142, -0.432, -0.938, -0.729, -0.846, -0.157, 0.500, 1.183, -1.075, -0.169]\n",
        "stat, p = mannwhitneyu(data1, data2)\n",
        "print('stat=%.3f, p=%.3f' % (stat, p))\n",
        "\n",
        "if p > 0.05:\n",
        "\tprint('Probably the same distribution') # Вероятно, такое же распределение\n",
        "else:\n",
        "\tprint('Probably different distributions') # Возможно разные распределения"
      ],
      "execution_count": 17,
      "outputs": [
        {
          "output_type": "stream",
          "text": [
            "stat=40.000, p=0.236\n",
            "Probably the same distribution\n"
          ],
          "name": "stdout"
        }
      ]
    },
    {
      "cell_type": "markdown",
      "metadata": {
        "id": "gmZFgq84qqOX",
        "colab_type": "text"
      },
      "source": [
        "More Information\n",
        "- [How to Calculate Nonparametric Statistical Hypothesis Tests in Python](https://machinelearningmastery.com/nonparametric-statistical-significance-tests-in-python/)\n",
        "- [scipy.stats.mannwhitneyu](https://docs.scipy.org/doc/scipy/reference/generated/scipy.stats.mannwhitneyu.html)\n",
        "- [Mann-Whitney U test on Wikipedia](https://en.wikipedia.org/wiki/Mann%E2%80%93Whitney_U_test)"
      ]
    },
    {
      "cell_type": "markdown",
      "metadata": {
        "id": "LMaQq1oDrn0I",
        "colab_type": "text"
      },
      "source": [
        "### Wilcoxon Signed-Rank Test\n",
        "Tests whether the distributions of two paired samples are equal or not. _(Проверяет, равны ли распределения двух парных выборок или нет.)_\n",
        "\n",
        "Assumptions\n",
        "- Observations in each sample are independent and identically distributed (iid). _(Наблюдения в каждой выборке независимы и одинаково распределены (iid).)_\n",
        "- Observations in each sample can be ranked. _(Наблюдения в каждом образце могут быть ранжированы.)_\n",
        "- Observations across each sample are paired. _(Наблюдения по каждому образцу являются парными.\n",
        "интерпретация)_\n",
        "\n",
        "Interpretation\n",
        "- H0: the distributions of both samples are equal. _(распределения обоих образцов равны.)_\n",
        "- H1: the distributions of both samples are not equal. _(распределения обоих образцов не равны.)_"
      ]
    },
    {
      "cell_type": "code",
      "metadata": {
        "id": "TiiO2cxdrTrQ",
        "colab_type": "code",
        "colab": {
          "base_uri": "https://localhost:8080/",
          "height": 52
        },
        "outputId": "7aed6b16-b352-49cd-efd7-2c06cee91aaa"
      },
      "source": [
        "# Example of the Wilcoxon Signed-Rank Test\n",
        "from scipy.stats import wilcoxon\n",
        "\n",
        "data1 = [0.873, 2.817, 0.121, -0.945, -0.055, -1.436, 0.360, -1.478, -1.637, -1.869]\n",
        "data2 = [1.142, -0.432, -0.938, -0.729, -0.846, -0.157, 0.500, 1.183, -1.075, -0.169]\n",
        "stat, p = wilcoxon(data1, data2)\n",
        "print('stat=%.3f, p=%.3f' % (stat, p))\n",
        "\n",
        "if p > 0.05:\n",
        "\tprint('Probably the same distribution') # Вероятно, такое же распределение\n",
        "else:\n",
        "\tprint('Probably different distributions') # Возможно разные распределения"
      ],
      "execution_count": 18,
      "outputs": [
        {
          "output_type": "stream",
          "text": [
            "stat=21.000, p=0.508\n",
            "Probably the same distribution\n"
          ],
          "name": "stdout"
        }
      ]
    },
    {
      "cell_type": "markdown",
      "metadata": {
        "id": "5Xeon1PrsHrn",
        "colab_type": "text"
      },
      "source": [
        "More Information\n",
        "- [How to Calculate Nonparametric Statistical Hypothesis Tests in Python](https://machinelearningmastery.com/nonparametric-statistical-significance-tests-in-python/)\n",
        "- [scipy.stats.wilcoxon](https://docs.scipy.org/doc/scipy/reference/generated/scipy.stats.wilcoxon.html)\n",
        "- [Wilcoxon signed-rank test on Wikipedia](https://en.wikipedia.org/wiki/Wilcoxon_signed-rank_test)"
      ]
    },
    {
      "cell_type": "markdown",
      "metadata": {
        "id": "WQSjCbMXsdqO",
        "colab_type": "text"
      },
      "source": [
        "### Kruskal-Wallis H Test\n",
        "Tests whether the distributions of two or more independent samples are equal or not. _(Проверяет, являются ли распределения двух или более независимых выборок равными или нет.)_\n",
        "\n",
        "Assumptions\n",
        "- Observations in each sample are independent and identically distributed (iid). _(Наблюдения в каждой выборке независимы и одинаково распределены (iid).)_\n",
        "- Observations in each sample can be ranked. _(Наблюдения в каждом образце могут быть ранжированы.\n",
        "интерпретация)_\n",
        "\n",
        "Interpretation\n",
        "- H0: the distributions of all samples are equal. _(распределения всех образцов равны.)_\n",
        "- H1: the distributions of one or more samples are not equal. _(распределения одной или нескольких выборок не равны.)_"
      ]
    },
    {
      "cell_type": "code",
      "metadata": {
        "id": "oKVdTQeOsHHZ",
        "colab_type": "code",
        "colab": {
          "base_uri": "https://localhost:8080/",
          "height": 52
        },
        "outputId": "b18cf5f2-ccb3-4bda-e4ff-78b13e7fabb7"
      },
      "source": [
        "# Example of the Kruskal-Wallis H Test\n",
        "from scipy.stats import kruskal\n",
        "\n",
        "data1 = [0.873, 2.817, 0.121, -0.945, -0.055, -1.436, 0.360, -1.478, -1.637, -1.869]\n",
        "data2 = [1.142, -0.432, -0.938, -0.729, -0.846, -0.157, 0.500, 1.183, -1.075, -0.169]\n",
        "stat, p = kruskal(data1, data2)\n",
        "print('stat=%.3f, p=%.3f' % (stat, p))\n",
        "\n",
        "if p > 0.05:\n",
        "\tprint('Probably the same distribution') # Вероятно, такое же распределение\n",
        "else:\n",
        "\tprint('Probably different distributions') # Возможно разные распределения"
      ],
      "execution_count": 19,
      "outputs": [
        {
          "output_type": "stream",
          "text": [
            "stat=0.571, p=0.450\n",
            "Probably the same distribution\n"
          ],
          "name": "stdout"
        }
      ]
    },
    {
      "cell_type": "markdown",
      "metadata": {
        "id": "WX65YDsqsxIx",
        "colab_type": "text"
      },
      "source": [
        "More Information\n",
        "- [How to Calculate Nonparametric Statistical Hypothesis Tests in Python](https://machinelearningmastery.com/nonparametric-statistical-significance-tests-in-python/)\n",
        "- [scipy.stats.kruskal](https://docs.scipy.org/doc/scipy/reference/generated/scipy.stats.kruskal.html)\n",
        "- [Kruskal-Wallis one-way analysis of variance on Wikipedia](https://en.wikipedia.org/wiki/Kruskal%E2%80%93Wallis_one-way_analysis_of_variance)"
      ]
    },
    {
      "cell_type": "markdown",
      "metadata": {
        "id": "jHcB6INAtRcq",
        "colab_type": "text"
      },
      "source": [
        "### Friedman Test\n",
        "Tests whether the distributions of two or more paired samples are equal or not. _(Проверяет, являются ли распределения двух или более парных выборок равными или нет.)_\n",
        "\n",
        "Assumptions\n",
        "- Observations in each sample are independent and identically distributed (iid). _(Наблюдения в каждой выборке независимы и одинаково распределены (iid).)_\n",
        "- Observations in each sample can be ranked. _(Наблюдения в каждом образце могут быть ранжированы.)_\n",
        "- Observations across each sample are paired. _(Наблюдения по каждому образцу являются парными.\n",
        "интерпретация)_\n",
        "\n",
        "Interpretation\n",
        "- H0: the distributions of all samples are equal. _(распределения всех образцов равны.)_\n",
        "- H1: the distributions of one or more samples are not equal. _(распределения одной или нескольких выборок не равны.)_"
      ]
    },
    {
      "cell_type": "code",
      "metadata": {
        "id": "K7h_ZovStFwm",
        "colab_type": "code",
        "colab": {
          "base_uri": "https://localhost:8080/",
          "height": 52
        },
        "outputId": "503af877-3f75-45a2-bcbf-2b52f3c56498"
      },
      "source": [
        "\t# Example of the Friedman Test\n",
        "from scipy.stats import friedmanchisquare\n",
        "\n",
        "data1 = [0.873, 2.817, 0.121, -0.945, -0.055, -1.436, 0.360, -1.478, -1.637, -1.869]\n",
        "data2 = [1.142, -0.432, -0.938, -0.729, -0.846, -0.157, 0.500, 1.183, -1.075, -0.169]\n",
        "data3 = [-0.208, 0.696, 0.928, -1.148, -0.213, 0.229, 0.137, 0.269, -0.870, -1.204]\n",
        "stat, p = friedmanchisquare(data1, data2, data3)\n",
        "print('stat=%.3f, p=%.3f' % (stat, p))\n",
        "\n",
        "if p > 0.05:\n",
        "  print('Probably the same distribution') # Вероятно, такое же распределение\n",
        "else:\n",
        "  print('Probably different distributions') # Возможно разные распределения"
      ],
      "execution_count": 21,
      "outputs": [
        {
          "output_type": "stream",
          "text": [
            "stat=0.800, p=0.670\n",
            "Probably the same distribution\n"
          ],
          "name": "stdout"
        }
      ]
    },
    {
      "cell_type": "markdown",
      "metadata": {
        "id": "o_umV8lVt6sM",
        "colab_type": "text"
      },
      "source": [
        "More Information\n",
        "- [How to Calculate Nonparametric Statistical Hypothesis Tests in Python](https://machinelearningmastery.com/nonparametric-statistical-significance-tests-in-python/)\n",
        "- [scipy.stats.friedmanchisquare](https://docs.scipy.org/doc/scipy/reference/generated/scipy.stats.kruskal.html)\n",
        "- [Friedman test on Wikipedia](https://en.wikipedia.org/wiki/Friedman_test)"
      ]
    },
    {
      "cell_type": "markdown",
      "metadata": {
        "id": "i-DSe1dJuJN9",
        "colab_type": "text"
      },
      "source": [
        "## Further Reading\n",
        "This section provides more resources on the topic if you are looking to go deeper.\n",
        "\n",
        "- [A Gentle Introduction to Normality Tests in Python](https://machinelearningmastery.com/a-gentle-introduction-to-normality-tests-in-python/)\n",
        "- [How to Use Correlation to Understand the Relationship Between Variables](https://machinelearningmastery.com/how-to-use-correlation-to-understand-the-relationship-between-variables/)\n",
        "- [How to Use Parametric Statistical Significance Tests in Python](https://machinelearningmastery.com/parametric-statistical-significance-tests-in-python/)\n",
        "- [A Gentle Introduction to Statistical Hypothesis Tests](https://machinelearningmastery.com/statistical-hypothesis-tests/)\n",
        "- https://machinelearningmastery.com/statistical-hypothesis-tests/\n",
        "- https://machinelearningmastery.com/parametric-statistical-significance-tests-in-python/"
      ]
    },
    {
      "cell_type": "code",
      "metadata": {
        "id": "T7vNgmfatqTr",
        "colab_type": "code",
        "colab": {}
      },
      "source": [
        "pass"
      ],
      "execution_count": null,
      "outputs": []
    }
  ]
}